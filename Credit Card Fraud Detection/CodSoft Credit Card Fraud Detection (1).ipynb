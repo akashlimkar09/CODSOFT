{
 "cells": [
  {
   "cell_type": "markdown",
   "id": "ec011ef9",
   "metadata": {},
   "source": [
    "# Name: Akash Limkar\n",
    "# Dataset: Credit card fraud detection"
   ]
  },
  {
   "cell_type": "markdown",
   "id": "79e112de",
   "metadata": {},
   "source": [
    "#### Importing Required Libraries"
   ]
  },
  {
   "cell_type": "code",
   "execution_count": 1,
   "id": "d8a5b14b",
   "metadata": {},
   "outputs": [],
   "source": [
    "import pandas as pd\n",
    "import numpy as np \n",
    "import seaborn as sns\n",
    "\n",
    "import warnings\n",
    "warnings.filterwarnings(\"ignore\")"
   ]
  },
  {
   "cell_type": "markdown",
   "id": "6a27ded9",
   "metadata": {},
   "source": [
    "# #Train Dataset"
   ]
  },
  {
   "cell_type": "code",
   "execution_count": 2,
   "id": "70acb504",
   "metadata": {
    "scrolled": false
   },
   "outputs": [
    {
     "data": {
      "text/html": [
       "<div>\n",
       "<style scoped>\n",
       "    .dataframe tbody tr th:only-of-type {\n",
       "        vertical-align: middle;\n",
       "    }\n",
       "\n",
       "    .dataframe tbody tr th {\n",
       "        vertical-align: top;\n",
       "    }\n",
       "\n",
       "    .dataframe thead th {\n",
       "        text-align: right;\n",
       "    }\n",
       "</style>\n",
       "<table border=\"1\" class=\"dataframe\">\n",
       "  <thead>\n",
       "    <tr style=\"text-align: right;\">\n",
       "      <th></th>\n",
       "      <th>Unnamed: 0</th>\n",
       "      <th>trans_date_trans_time</th>\n",
       "      <th>cc_num</th>\n",
       "      <th>merchant</th>\n",
       "      <th>category</th>\n",
       "      <th>amt</th>\n",
       "      <th>first</th>\n",
       "      <th>last</th>\n",
       "      <th>gender</th>\n",
       "      <th>street</th>\n",
       "      <th>...</th>\n",
       "      <th>lat</th>\n",
       "      <th>long</th>\n",
       "      <th>city_pop</th>\n",
       "      <th>job</th>\n",
       "      <th>dob</th>\n",
       "      <th>trans_num</th>\n",
       "      <th>unix_time</th>\n",
       "      <th>merch_lat</th>\n",
       "      <th>merch_long</th>\n",
       "      <th>is_fraud</th>\n",
       "    </tr>\n",
       "  </thead>\n",
       "  <tbody>\n",
       "    <tr>\n",
       "      <th>0</th>\n",
       "      <td>0</td>\n",
       "      <td>2019-01-01 00:00:18</td>\n",
       "      <td>2703186189652095</td>\n",
       "      <td>fraud_Rippin, Kub and Mann</td>\n",
       "      <td>misc_net</td>\n",
       "      <td>4.97</td>\n",
       "      <td>Jennifer</td>\n",
       "      <td>Banks</td>\n",
       "      <td>F</td>\n",
       "      <td>561 Perry Cove</td>\n",
       "      <td>...</td>\n",
       "      <td>36.0788</td>\n",
       "      <td>-81.1781</td>\n",
       "      <td>3495</td>\n",
       "      <td>Psychologist, counselling</td>\n",
       "      <td>1988-03-09</td>\n",
       "      <td>0b242abb623afc578575680df30655b9</td>\n",
       "      <td>1325376018</td>\n",
       "      <td>36.011293</td>\n",
       "      <td>-82.048315</td>\n",
       "      <td>0</td>\n",
       "    </tr>\n",
       "  </tbody>\n",
       "</table>\n",
       "<p>1 rows × 23 columns</p>\n",
       "</div>"
      ],
      "text/plain": [
       "   Unnamed: 0 trans_date_trans_time            cc_num  \\\n",
       "0           0   2019-01-01 00:00:18  2703186189652095   \n",
       "\n",
       "                     merchant  category   amt     first   last gender  \\\n",
       "0  fraud_Rippin, Kub and Mann  misc_net  4.97  Jennifer  Banks      F   \n",
       "\n",
       "           street  ...      lat     long  city_pop                        job  \\\n",
       "0  561 Perry Cove  ...  36.0788 -81.1781      3495  Psychologist, counselling   \n",
       "\n",
       "          dob                         trans_num   unix_time  merch_lat  \\\n",
       "0  1988-03-09  0b242abb623afc578575680df30655b9  1325376018  36.011293   \n",
       "\n",
       "  merch_long  is_fraud  \n",
       "0 -82.048315         0  \n",
       "\n",
       "[1 rows x 23 columns]"
      ]
     },
     "execution_count": 2,
     "metadata": {},
     "output_type": "execute_result"
    }
   ],
   "source": [
    "train = pd.read_csv(r\"C:\\Users\\akash\\OneDrive\\Desktop\\DATA SCIENCE\\INTERNSHIP\\CODSOFT\\Credit Card Fraud Detection\\fraudTrain.csv\")\n",
    "train.head(1)"
   ]
  },
  {
   "cell_type": "markdown",
   "id": "429b07a5",
   "metadata": {},
   "source": [
    "### EDA"
   ]
  },
  {
   "cell_type": "code",
   "execution_count": 3,
   "id": "b1378ecc",
   "metadata": {
    "scrolled": true
   },
   "outputs": [
    {
     "data": {
      "text/plain": [
       "(1296675, 23)"
      ]
     },
     "execution_count": 3,
     "metadata": {},
     "output_type": "execute_result"
    }
   ],
   "source": [
    "train.shape"
   ]
  },
  {
   "cell_type": "markdown",
   "id": "f2af04d7",
   "metadata": {},
   "source": [
    "#### Checking missing values"
   ]
  },
  {
   "cell_type": "code",
   "execution_count": 4,
   "id": "f0adef50",
   "metadata": {
    "scrolled": true
   },
   "outputs": [
    {
     "data": {
      "text/plain": [
       "Unnamed: 0               0\n",
       "trans_date_trans_time    0\n",
       "cc_num                   0\n",
       "merchant                 0\n",
       "category                 0\n",
       "amt                      0\n",
       "first                    0\n",
       "last                     0\n",
       "gender                   0\n",
       "street                   0\n",
       "city                     0\n",
       "state                    0\n",
       "zip                      0\n",
       "lat                      0\n",
       "long                     0\n",
       "city_pop                 0\n",
       "job                      0\n",
       "dob                      0\n",
       "trans_num                0\n",
       "unix_time                0\n",
       "merch_lat                0\n",
       "merch_long               0\n",
       "is_fraud                 0\n",
       "dtype: int64"
      ]
     },
     "execution_count": 4,
     "metadata": {},
     "output_type": "execute_result"
    }
   ],
   "source": [
    "train.isna().sum()"
   ]
  },
  {
   "cell_type": "markdown",
   "id": "22e1072a",
   "metadata": {},
   "source": [
    "* No missing values"
   ]
  },
  {
   "cell_type": "markdown",
   "id": "481a2280",
   "metadata": {},
   "source": [
    "#### Removing irrelevant columns"
   ]
  },
  {
   "cell_type": "code",
   "execution_count": 5,
   "id": "02810148",
   "metadata": {
    "scrolled": false
   },
   "outputs": [
    {
     "data": {
      "text/plain": [
       "Index(['Unnamed: 0', 'trans_date_trans_time', 'cc_num', 'merchant', 'category',\n",
       "       'amt', 'first', 'last', 'gender', 'street', 'city', 'state', 'zip',\n",
       "       'lat', 'long', 'city_pop', 'job', 'dob', 'trans_num', 'unix_time',\n",
       "       'merch_lat', 'merch_long', 'is_fraud'],\n",
       "      dtype='object')"
      ]
     },
     "execution_count": 5,
     "metadata": {},
     "output_type": "execute_result"
    }
   ],
   "source": [
    "train.columns"
   ]
  },
  {
   "cell_type": "code",
   "execution_count": 6,
   "id": "5acc92d5",
   "metadata": {},
   "outputs": [
    {
     "data": {
      "text/html": [
       "<div>\n",
       "<style scoped>\n",
       "    .dataframe tbody tr th:only-of-type {\n",
       "        vertical-align: middle;\n",
       "    }\n",
       "\n",
       "    .dataframe tbody tr th {\n",
       "        vertical-align: top;\n",
       "    }\n",
       "\n",
       "    .dataframe thead th {\n",
       "        text-align: right;\n",
       "    }\n",
       "</style>\n",
       "<table border=\"1\" class=\"dataframe\">\n",
       "  <thead>\n",
       "    <tr style=\"text-align: right;\">\n",
       "      <th></th>\n",
       "      <th>merchant</th>\n",
       "      <th>category</th>\n",
       "      <th>amt</th>\n",
       "      <th>first</th>\n",
       "      <th>last</th>\n",
       "      <th>gender</th>\n",
       "      <th>street</th>\n",
       "      <th>city</th>\n",
       "      <th>state</th>\n",
       "      <th>zip</th>\n",
       "      <th>city_pop</th>\n",
       "      <th>job</th>\n",
       "      <th>unix_time</th>\n",
       "      <th>is_fraud</th>\n",
       "    </tr>\n",
       "  </thead>\n",
       "  <tbody>\n",
       "    <tr>\n",
       "      <th>0</th>\n",
       "      <td>fraud_Rippin, Kub and Mann</td>\n",
       "      <td>misc_net</td>\n",
       "      <td>4.97</td>\n",
       "      <td>Jennifer</td>\n",
       "      <td>Banks</td>\n",
       "      <td>F</td>\n",
       "      <td>561 Perry Cove</td>\n",
       "      <td>Moravian Falls</td>\n",
       "      <td>NC</td>\n",
       "      <td>28654</td>\n",
       "      <td>3495</td>\n",
       "      <td>Psychologist, counselling</td>\n",
       "      <td>1325376018</td>\n",
       "      <td>0</td>\n",
       "    </tr>\n",
       "    <tr>\n",
       "      <th>1</th>\n",
       "      <td>fraud_Heller, Gutmann and Zieme</td>\n",
       "      <td>grocery_pos</td>\n",
       "      <td>107.23</td>\n",
       "      <td>Stephanie</td>\n",
       "      <td>Gill</td>\n",
       "      <td>F</td>\n",
       "      <td>43039 Riley Greens Suite 393</td>\n",
       "      <td>Orient</td>\n",
       "      <td>WA</td>\n",
       "      <td>99160</td>\n",
       "      <td>149</td>\n",
       "      <td>Special educational needs teacher</td>\n",
       "      <td>1325376044</td>\n",
       "      <td>0</td>\n",
       "    </tr>\n",
       "    <tr>\n",
       "      <th>2</th>\n",
       "      <td>fraud_Lind-Buckridge</td>\n",
       "      <td>entertainment</td>\n",
       "      <td>220.11</td>\n",
       "      <td>Edward</td>\n",
       "      <td>Sanchez</td>\n",
       "      <td>M</td>\n",
       "      <td>594 White Dale Suite 530</td>\n",
       "      <td>Malad City</td>\n",
       "      <td>ID</td>\n",
       "      <td>83252</td>\n",
       "      <td>4154</td>\n",
       "      <td>Nature conservation officer</td>\n",
       "      <td>1325376051</td>\n",
       "      <td>0</td>\n",
       "    </tr>\n",
       "  </tbody>\n",
       "</table>\n",
       "</div>"
      ],
      "text/plain": [
       "                          merchant       category     amt      first     last  \\\n",
       "0       fraud_Rippin, Kub and Mann       misc_net    4.97   Jennifer    Banks   \n",
       "1  fraud_Heller, Gutmann and Zieme    grocery_pos  107.23  Stephanie     Gill   \n",
       "2             fraud_Lind-Buckridge  entertainment  220.11     Edward  Sanchez   \n",
       "\n",
       "  gender                        street            city state    zip  city_pop  \\\n",
       "0      F                561 Perry Cove  Moravian Falls    NC  28654      3495   \n",
       "1      F  43039 Riley Greens Suite 393          Orient    WA  99160       149   \n",
       "2      M      594 White Dale Suite 530      Malad City    ID  83252      4154   \n",
       "\n",
       "                                 job   unix_time  is_fraud  \n",
       "0          Psychologist, counselling  1325376018         0  \n",
       "1  Special educational needs teacher  1325376044         0  \n",
       "2        Nature conservation officer  1325376051         0  "
      ]
     },
     "execution_count": 6,
     "metadata": {},
     "output_type": "execute_result"
    }
   ],
   "source": [
    "train.drop(columns=['Unnamed: 0',\"cc_num\",\"lat\",\"long\",\"trans_num\",\"merch_lat\",\n",
    "                    \"merch_long\",\"trans_date_trans_time\",\"dob\"],axis=1, inplace=True)\n",
    "train.head(3)"
   ]
  },
  {
   "cell_type": "markdown",
   "id": "dbef5b9e",
   "metadata": {},
   "source": [
    "#### Converting Float to int (amt)"
   ]
  },
  {
   "cell_type": "code",
   "execution_count": 7,
   "id": "084589fa",
   "metadata": {
    "scrolled": true
   },
   "outputs": [
    {
     "data": {
      "text/plain": [
       "merchant      object\n",
       "category      object\n",
       "amt          float64\n",
       "first         object\n",
       "last          object\n",
       "gender        object\n",
       "street        object\n",
       "city          object\n",
       "state         object\n",
       "zip            int64\n",
       "city_pop       int64\n",
       "job           object\n",
       "unix_time      int64\n",
       "is_fraud       int64\n",
       "dtype: object"
      ]
     },
     "execution_count": 7,
     "metadata": {},
     "output_type": "execute_result"
    }
   ],
   "source": [
    "train.dtypes"
   ]
  },
  {
   "cell_type": "code",
   "execution_count": 8,
   "id": "8226f5a5",
   "metadata": {},
   "outputs": [],
   "source": [
    "train[\"amt\"] = train[\"amt\"].astype(\"int\")"
   ]
  },
  {
   "cell_type": "code",
   "execution_count": 9,
   "id": "46fc0fa7",
   "metadata": {},
   "outputs": [
    {
     "data": {
      "text/plain": [
       "merchant     object\n",
       "category     object\n",
       "amt           int32\n",
       "first        object\n",
       "last         object\n",
       "gender       object\n",
       "street       object\n",
       "city         object\n",
       "state        object\n",
       "zip           int64\n",
       "city_pop      int64\n",
       "job          object\n",
       "unix_time     int64\n",
       "is_fraud      int64\n",
       "dtype: object"
      ]
     },
     "execution_count": 9,
     "metadata": {},
     "output_type": "execute_result"
    }
   ],
   "source": [
    "train.dtypes"
   ]
  },
  {
   "cell_type": "markdown",
   "id": "78f7fc4f",
   "metadata": {},
   "source": [
    "#### Label Encoding"
   ]
  },
  {
   "cell_type": "code",
   "execution_count": 10,
   "id": "4e3d5a6b",
   "metadata": {},
   "outputs": [],
   "source": [
    "Number = train[train.select_dtypes(include=[np.number]).columns.tolist()]"
   ]
  },
  {
   "cell_type": "code",
   "execution_count": 11,
   "id": "381e0ba5",
   "metadata": {},
   "outputs": [],
   "source": [
    "Qualitative = train[train.select_dtypes(include=[object]).columns.tolist()]"
   ]
  },
  {
   "cell_type": "markdown",
   "id": "a69c85c5",
   "metadata": {},
   "source": [
    "#### Converting Qualitative data into Quantitative"
   ]
  },
  {
   "cell_type": "code",
   "execution_count": 12,
   "id": "56452254",
   "metadata": {},
   "outputs": [
    {
     "data": {
      "text/html": [
       "<div>\n",
       "<style scoped>\n",
       "    .dataframe tbody tr th:only-of-type {\n",
       "        vertical-align: middle;\n",
       "    }\n",
       "\n",
       "    .dataframe tbody tr th {\n",
       "        vertical-align: top;\n",
       "    }\n",
       "\n",
       "    .dataframe thead th {\n",
       "        text-align: right;\n",
       "    }\n",
       "</style>\n",
       "<table border=\"1\" class=\"dataframe\">\n",
       "  <thead>\n",
       "    <tr style=\"text-align: right;\">\n",
       "      <th></th>\n",
       "      <th>merchant</th>\n",
       "      <th>category</th>\n",
       "      <th>first</th>\n",
       "      <th>last</th>\n",
       "      <th>gender</th>\n",
       "      <th>street</th>\n",
       "      <th>city</th>\n",
       "      <th>state</th>\n",
       "      <th>job</th>\n",
       "    </tr>\n",
       "  </thead>\n",
       "  <tbody>\n",
       "    <tr>\n",
       "      <th>0</th>\n",
       "      <td>514</td>\n",
       "      <td>8</td>\n",
       "      <td>162</td>\n",
       "      <td>18</td>\n",
       "      <td>0</td>\n",
       "      <td>568</td>\n",
       "      <td>526</td>\n",
       "      <td>27</td>\n",
       "      <td>370</td>\n",
       "    </tr>\n",
       "    <tr>\n",
       "      <th>1</th>\n",
       "      <td>241</td>\n",
       "      <td>4</td>\n",
       "      <td>309</td>\n",
       "      <td>157</td>\n",
       "      <td>0</td>\n",
       "      <td>435</td>\n",
       "      <td>612</td>\n",
       "      <td>47</td>\n",
       "      <td>428</td>\n",
       "    </tr>\n",
       "    <tr>\n",
       "      <th>2</th>\n",
       "      <td>390</td>\n",
       "      <td>0</td>\n",
       "      <td>115</td>\n",
       "      <td>381</td>\n",
       "      <td>1</td>\n",
       "      <td>602</td>\n",
       "      <td>468</td>\n",
       "      <td>13</td>\n",
       "      <td>307</td>\n",
       "    </tr>\n",
       "  </tbody>\n",
       "</table>\n",
       "</div>"
      ],
      "text/plain": [
       "   merchant  category  first  last  gender  street  city  state  job\n",
       "0       514         8    162    18       0     568   526     27  370\n",
       "1       241         4    309   157       0     435   612     47  428\n",
       "2       390         0    115   381       1     602   468     13  307"
      ]
     },
     "execution_count": 12,
     "metadata": {},
     "output_type": "execute_result"
    }
   ],
   "source": [
    "from sklearn.preprocessing import LabelEncoder\n",
    "Qualitative = Qualitative.apply(LabelEncoder().fit_transform) # label in ascending order\n",
    "Qualitative.head(3)"
   ]
  },
  {
   "cell_type": "code",
   "execution_count": 13,
   "id": "388e22a4",
   "metadata": {
    "scrolled": false
   },
   "outputs": [
    {
     "data": {
      "text/html": [
       "<div>\n",
       "<style scoped>\n",
       "    .dataframe tbody tr th:only-of-type {\n",
       "        vertical-align: middle;\n",
       "    }\n",
       "\n",
       "    .dataframe tbody tr th {\n",
       "        vertical-align: top;\n",
       "    }\n",
       "\n",
       "    .dataframe thead th {\n",
       "        text-align: right;\n",
       "    }\n",
       "</style>\n",
       "<table border=\"1\" class=\"dataframe\">\n",
       "  <thead>\n",
       "    <tr style=\"text-align: right;\">\n",
       "      <th></th>\n",
       "      <th>merchant</th>\n",
       "      <th>category</th>\n",
       "      <th>first</th>\n",
       "      <th>last</th>\n",
       "      <th>gender</th>\n",
       "      <th>street</th>\n",
       "      <th>city</th>\n",
       "      <th>state</th>\n",
       "      <th>job</th>\n",
       "      <th>amt</th>\n",
       "      <th>zip</th>\n",
       "      <th>city_pop</th>\n",
       "      <th>unix_time</th>\n",
       "      <th>is_fraud</th>\n",
       "    </tr>\n",
       "  </thead>\n",
       "  <tbody>\n",
       "    <tr>\n",
       "      <th>0</th>\n",
       "      <td>514</td>\n",
       "      <td>8</td>\n",
       "      <td>162</td>\n",
       "      <td>18</td>\n",
       "      <td>0</td>\n",
       "      <td>568</td>\n",
       "      <td>526</td>\n",
       "      <td>27</td>\n",
       "      <td>370</td>\n",
       "      <td>4</td>\n",
       "      <td>28654</td>\n",
       "      <td>3495</td>\n",
       "      <td>1325376018</td>\n",
       "      <td>0</td>\n",
       "    </tr>\n",
       "    <tr>\n",
       "      <th>1</th>\n",
       "      <td>241</td>\n",
       "      <td>4</td>\n",
       "      <td>309</td>\n",
       "      <td>157</td>\n",
       "      <td>0</td>\n",
       "      <td>435</td>\n",
       "      <td>612</td>\n",
       "      <td>47</td>\n",
       "      <td>428</td>\n",
       "      <td>107</td>\n",
       "      <td>99160</td>\n",
       "      <td>149</td>\n",
       "      <td>1325376044</td>\n",
       "      <td>0</td>\n",
       "    </tr>\n",
       "    <tr>\n",
       "      <th>2</th>\n",
       "      <td>390</td>\n",
       "      <td>0</td>\n",
       "      <td>115</td>\n",
       "      <td>381</td>\n",
       "      <td>1</td>\n",
       "      <td>602</td>\n",
       "      <td>468</td>\n",
       "      <td>13</td>\n",
       "      <td>307</td>\n",
       "      <td>220</td>\n",
       "      <td>83252</td>\n",
       "      <td>4154</td>\n",
       "      <td>1325376051</td>\n",
       "      <td>0</td>\n",
       "    </tr>\n",
       "  </tbody>\n",
       "</table>\n",
       "</div>"
      ],
      "text/plain": [
       "   merchant  category  first  last  gender  street  city  state  job  amt  \\\n",
       "0       514         8    162    18       0     568   526     27  370    4   \n",
       "1       241         4    309   157       0     435   612     47  428  107   \n",
       "2       390         0    115   381       1     602   468     13  307  220   \n",
       "\n",
       "     zip  city_pop   unix_time  is_fraud  \n",
       "0  28654      3495  1325376018         0  \n",
       "1  99160       149  1325376044         0  \n",
       "2  83252      4154  1325376051         0  "
      ]
     },
     "execution_count": 13,
     "metadata": {},
     "output_type": "execute_result"
    }
   ],
   "source": [
    "Final = pd.concat([Qualitative,Number],axis = 1)\n",
    "Final.head(3)"
   ]
  },
  {
   "cell_type": "code",
   "execution_count": 14,
   "id": "e5a6987b",
   "metadata": {
    "scrolled": true
   },
   "outputs": [
    {
     "data": {
      "text/plain": [
       "(1296675, 14)"
      ]
     },
     "execution_count": 14,
     "metadata": {},
     "output_type": "execute_result"
    }
   ],
   "source": [
    "Final.shape"
   ]
  },
  {
   "cell_type": "markdown",
   "id": "430e687a",
   "metadata": {},
   "source": [
    "#### Splitting Data into X_train and y_train"
   ]
  },
  {
   "cell_type": "code",
   "execution_count": 15,
   "id": "cb453efb",
   "metadata": {},
   "outputs": [
    {
     "data": {
      "text/html": [
       "<div>\n",
       "<style scoped>\n",
       "    .dataframe tbody tr th:only-of-type {\n",
       "        vertical-align: middle;\n",
       "    }\n",
       "\n",
       "    .dataframe tbody tr th {\n",
       "        vertical-align: top;\n",
       "    }\n",
       "\n",
       "    .dataframe thead th {\n",
       "        text-align: right;\n",
       "    }\n",
       "</style>\n",
       "<table border=\"1\" class=\"dataframe\">\n",
       "  <thead>\n",
       "    <tr style=\"text-align: right;\">\n",
       "      <th></th>\n",
       "      <th>merchant</th>\n",
       "      <th>category</th>\n",
       "      <th>first</th>\n",
       "      <th>last</th>\n",
       "      <th>gender</th>\n",
       "      <th>street</th>\n",
       "      <th>city</th>\n",
       "      <th>state</th>\n",
       "      <th>job</th>\n",
       "      <th>amt</th>\n",
       "      <th>zip</th>\n",
       "      <th>city_pop</th>\n",
       "      <th>unix_time</th>\n",
       "    </tr>\n",
       "  </thead>\n",
       "  <tbody>\n",
       "    <tr>\n",
       "      <th>0</th>\n",
       "      <td>514</td>\n",
       "      <td>8</td>\n",
       "      <td>162</td>\n",
       "      <td>18</td>\n",
       "      <td>0</td>\n",
       "      <td>568</td>\n",
       "      <td>526</td>\n",
       "      <td>27</td>\n",
       "      <td>370</td>\n",
       "      <td>4</td>\n",
       "      <td>28654</td>\n",
       "      <td>3495</td>\n",
       "      <td>1325376018</td>\n",
       "    </tr>\n",
       "    <tr>\n",
       "      <th>1</th>\n",
       "      <td>241</td>\n",
       "      <td>4</td>\n",
       "      <td>309</td>\n",
       "      <td>157</td>\n",
       "      <td>0</td>\n",
       "      <td>435</td>\n",
       "      <td>612</td>\n",
       "      <td>47</td>\n",
       "      <td>428</td>\n",
       "      <td>107</td>\n",
       "      <td>99160</td>\n",
       "      <td>149</td>\n",
       "      <td>1325376044</td>\n",
       "    </tr>\n",
       "    <tr>\n",
       "      <th>2</th>\n",
       "      <td>390</td>\n",
       "      <td>0</td>\n",
       "      <td>115</td>\n",
       "      <td>381</td>\n",
       "      <td>1</td>\n",
       "      <td>602</td>\n",
       "      <td>468</td>\n",
       "      <td>13</td>\n",
       "      <td>307</td>\n",
       "      <td>220</td>\n",
       "      <td>83252</td>\n",
       "      <td>4154</td>\n",
       "      <td>1325376051</td>\n",
       "    </tr>\n",
       "  </tbody>\n",
       "</table>\n",
       "</div>"
      ],
      "text/plain": [
       "   merchant  category  first  last  gender  street  city  state  job  amt  \\\n",
       "0       514         8    162    18       0     568   526     27  370    4   \n",
       "1       241         4    309   157       0     435   612     47  428  107   \n",
       "2       390         0    115   381       1     602   468     13  307  220   \n",
       "\n",
       "     zip  city_pop   unix_time  \n",
       "0  28654      3495  1325376018  \n",
       "1  99160       149  1325376044  \n",
       "2  83252      4154  1325376051  "
      ]
     },
     "execution_count": 15,
     "metadata": {},
     "output_type": "execute_result"
    }
   ],
   "source": [
    "X_train = Final.drop([\"is_fraud\"],axis = 1)\n",
    "X_train.head(3)"
   ]
  },
  {
   "cell_type": "markdown",
   "id": "2b069ab2",
   "metadata": {},
   "source": [
    "#### Scaling dataset"
   ]
  },
  {
   "cell_type": "code",
   "execution_count": 16,
   "id": "571208f5",
   "metadata": {
    "scrolled": true
   },
   "outputs": [
    {
     "data": {
      "text/plain": [
       "array([[ 0.85165441,  0.45285278, -0.18724154, ..., -0.74913592,\n",
       "        -0.28258876, -1.85866447],\n",
       "       [-0.50688018, -0.56926552,  1.31992898, ...,  1.87256653,\n",
       "        -0.29366984, -1.85866244],\n",
       "       [ 0.23459108, -1.59138383, -0.66912599, ...,  1.2810418 ,\n",
       "        -0.28040632, -1.8586619 ],\n",
       "       ...,\n",
       "       [ 1.27464137, -1.33585425, -1.08949327, ...,  1.46967676,\n",
       "        -0.29118603,  1.75785644],\n",
       "       [ 0.82677283, -1.33585425, -0.01294291, ...,  0.33299588,\n",
       "        -0.29043427,  1.75786142],\n",
       "       [ 0.13506474, -1.33585425, -0.20774726, ...,  0.41164026,\n",
       "        -0.29344133,  1.7578615 ]])"
      ]
     },
     "execution_count": 16,
     "metadata": {},
     "output_type": "execute_result"
    }
   ],
   "source": [
    "from sklearn.preprocessing import StandardScaler\n",
    "\n",
    "scaler = StandardScaler()\n",
    "X_train = scaler.fit_transform(X_train)\n",
    "X_train"
   ]
  },
  {
   "cell_type": "code",
   "execution_count": 17,
   "id": "8b248642",
   "metadata": {
    "scrolled": true
   },
   "outputs": [
    {
     "data": {
      "text/plain": [
       "array([ 1.16320943e-16,  4.11637228e-17,  1.45125138e-16, -3.50867036e-17,\n",
       "       -4.72407421e-17,  1.37842578e-17, -1.75844498e-17, -5.01943159e-17,\n",
       "       -5.93564225e-17,  7.87985003e-18, -3.35825180e-17, -1.35075315e-18,\n",
       "       -2.57135179e-15])"
      ]
     },
     "execution_count": 17,
     "metadata": {},
     "output_type": "execute_result"
    }
   ],
   "source": [
    "X_train.mean(axis=0)"
   ]
  },
  {
   "cell_type": "code",
   "execution_count": 18,
   "id": "e7a865fe",
   "metadata": {},
   "outputs": [
    {
     "data": {
      "text/plain": [
       "array([1., 1., 1., 1., 1., 1., 1., 1., 1., 1., 1., 1., 1.])"
      ]
     },
     "execution_count": 18,
     "metadata": {},
     "output_type": "execute_result"
    }
   ],
   "source": [
    "X_train.std(axis=0)"
   ]
  },
  {
   "cell_type": "code",
   "execution_count": 19,
   "id": "5351389b",
   "metadata": {},
   "outputs": [
    {
     "data": {
      "text/html": [
       "<div>\n",
       "<style scoped>\n",
       "    .dataframe tbody tr th:only-of-type {\n",
       "        vertical-align: middle;\n",
       "    }\n",
       "\n",
       "    .dataframe tbody tr th {\n",
       "        vertical-align: top;\n",
       "    }\n",
       "\n",
       "    .dataframe thead th {\n",
       "        text-align: right;\n",
       "    }\n",
       "</style>\n",
       "<table border=\"1\" class=\"dataframe\">\n",
       "  <thead>\n",
       "    <tr style=\"text-align: right;\">\n",
       "      <th></th>\n",
       "      <th>merchant</th>\n",
       "      <th>category</th>\n",
       "      <th>first</th>\n",
       "      <th>last</th>\n",
       "      <th>gender</th>\n",
       "      <th>street</th>\n",
       "      <th>city</th>\n",
       "      <th>state</th>\n",
       "      <th>job</th>\n",
       "      <th>amt</th>\n",
       "      <th>zip</th>\n",
       "      <th>city_pop</th>\n",
       "      <th>unix_time</th>\n",
       "    </tr>\n",
       "  </thead>\n",
       "  <tbody>\n",
       "    <tr>\n",
       "      <th>0</th>\n",
       "      <td>0.851654</td>\n",
       "      <td>0.452853</td>\n",
       "      <td>-0.187242</td>\n",
       "      <td>-1.701281</td>\n",
       "      <td>-0.909206</td>\n",
       "      <td>0.285529</td>\n",
       "      <td>0.312207</td>\n",
       "      <td>0.022519</td>\n",
       "      <td>0.848099</td>\n",
       "      <td>-0.410800</td>\n",
       "      <td>-0.749136</td>\n",
       "      <td>-0.282589</td>\n",
       "      <td>-1.858664</td>\n",
       "    </tr>\n",
       "    <tr>\n",
       "      <th>1</th>\n",
       "      <td>-0.506880</td>\n",
       "      <td>-0.569266</td>\n",
       "      <td>1.319929</td>\n",
       "      <td>-0.684263</td>\n",
       "      <td>-0.909206</td>\n",
       "      <td>-0.189368</td>\n",
       "      <td>0.644767</td>\n",
       "      <td>1.418098</td>\n",
       "      <td>1.262061</td>\n",
       "      <td>0.231684</td>\n",
       "      <td>1.872567</td>\n",
       "      <td>-0.293670</td>\n",
       "      <td>-1.858662</td>\n",
       "    </tr>\n",
       "    <tr>\n",
       "      <th>2</th>\n",
       "      <td>0.234591</td>\n",
       "      <td>-1.591384</td>\n",
       "      <td>-0.669126</td>\n",
       "      <td>0.954674</td>\n",
       "      <td>1.099861</td>\n",
       "      <td>0.406932</td>\n",
       "      <td>0.087922</td>\n",
       "      <td>-0.954386</td>\n",
       "      <td>0.398450</td>\n",
       "      <td>0.936545</td>\n",
       "      <td>1.281042</td>\n",
       "      <td>-0.280406</td>\n",
       "      <td>-1.858662</td>\n",
       "    </tr>\n",
       "    <tr>\n",
       "      <th>3</th>\n",
       "      <td>0.085302</td>\n",
       "      <td>-1.080325</td>\n",
       "      <td>-0.176989</td>\n",
       "      <td>1.554641</td>\n",
       "      <td>1.099861</td>\n",
       "      <td>1.578106</td>\n",
       "      <td>-1.396996</td>\n",
       "      <td>-0.047260</td>\n",
       "      <td>0.548333</td>\n",
       "      <td>-0.155054</td>\n",
       "      <td>0.402753</td>\n",
       "      <td>-0.287742</td>\n",
       "      <td>-1.858660</td>\n",
       "    </tr>\n",
       "    <tr>\n",
       "      <th>4</th>\n",
       "      <td>-0.228206</td>\n",
       "      <td>0.708382</td>\n",
       "      <td>1.596756</td>\n",
       "      <td>-0.742796</td>\n",
       "      <td>1.099861</td>\n",
       "      <td>-0.250069</td>\n",
       "      <td>-0.886556</td>\n",
       "      <td>1.278540</td>\n",
       "      <td>-0.964771</td>\n",
       "      <td>-0.180005</td>\n",
       "      <td>-0.906090</td>\n",
       "      <td>-0.293835</td>\n",
       "      <td>-1.858651</td>\n",
       "    </tr>\n",
       "  </tbody>\n",
       "</table>\n",
       "</div>"
      ],
      "text/plain": [
       "   merchant  category     first      last    gender    street      city  \\\n",
       "0  0.851654  0.452853 -0.187242 -1.701281 -0.909206  0.285529  0.312207   \n",
       "1 -0.506880 -0.569266  1.319929 -0.684263 -0.909206 -0.189368  0.644767   \n",
       "2  0.234591 -1.591384 -0.669126  0.954674  1.099861  0.406932  0.087922   \n",
       "3  0.085302 -1.080325 -0.176989  1.554641  1.099861  1.578106 -1.396996   \n",
       "4 -0.228206  0.708382  1.596756 -0.742796  1.099861 -0.250069 -0.886556   \n",
       "\n",
       "      state       job       amt       zip  city_pop  unix_time  \n",
       "0  0.022519  0.848099 -0.410800 -0.749136 -0.282589  -1.858664  \n",
       "1  1.418098  1.262061  0.231684  1.872567 -0.293670  -1.858662  \n",
       "2 -0.954386  0.398450  0.936545  1.281042 -0.280406  -1.858662  \n",
       "3 -0.047260  0.548333 -0.155054  0.402753 -0.287742  -1.858660  \n",
       "4  1.278540 -0.964771 -0.180005 -0.906090 -0.293835  -1.858651  "
      ]
     },
     "execution_count": 19,
     "metadata": {},
     "output_type": "execute_result"
    }
   ],
   "source": [
    "X_train = pd.DataFrame(X_train,columns=['merchant','category','first','last','gender','street','city','state','job','amt','zip','city_pop','unix_time'])\n",
    "X_train.head()"
   ]
  },
  {
   "cell_type": "code",
   "execution_count": 20,
   "id": "fb1beb21",
   "metadata": {},
   "outputs": [
    {
     "data": {
      "text/html": [
       "<div>\n",
       "<style scoped>\n",
       "    .dataframe tbody tr th:only-of-type {\n",
       "        vertical-align: middle;\n",
       "    }\n",
       "\n",
       "    .dataframe tbody tr th {\n",
       "        vertical-align: top;\n",
       "    }\n",
       "\n",
       "    .dataframe thead th {\n",
       "        text-align: right;\n",
       "    }\n",
       "</style>\n",
       "<table border=\"1\" class=\"dataframe\">\n",
       "  <thead>\n",
       "    <tr style=\"text-align: right;\">\n",
       "      <th></th>\n",
       "      <th>is_fraud</th>\n",
       "    </tr>\n",
       "  </thead>\n",
       "  <tbody>\n",
       "    <tr>\n",
       "      <th>0</th>\n",
       "      <td>0</td>\n",
       "    </tr>\n",
       "    <tr>\n",
       "      <th>1</th>\n",
       "      <td>0</td>\n",
       "    </tr>\n",
       "    <tr>\n",
       "      <th>2</th>\n",
       "      <td>0</td>\n",
       "    </tr>\n",
       "  </tbody>\n",
       "</table>\n",
       "</div>"
      ],
      "text/plain": [
       "   is_fraud\n",
       "0         0\n",
       "1         0\n",
       "2         0"
      ]
     },
     "execution_count": 20,
     "metadata": {},
     "output_type": "execute_result"
    }
   ],
   "source": [
    "y_train = Final[[\"is_fraud\"]]\n",
    "y_train.head(3)"
   ]
  },
  {
   "cell_type": "markdown",
   "id": "f7a9e891",
   "metadata": {},
   "source": [
    "# #Test Dataset"
   ]
  },
  {
   "cell_type": "code",
   "execution_count": 21,
   "id": "f643310f",
   "metadata": {
    "scrolled": true
   },
   "outputs": [
    {
     "data": {
      "text/html": [
       "<div>\n",
       "<style scoped>\n",
       "    .dataframe tbody tr th:only-of-type {\n",
       "        vertical-align: middle;\n",
       "    }\n",
       "\n",
       "    .dataframe tbody tr th {\n",
       "        vertical-align: top;\n",
       "    }\n",
       "\n",
       "    .dataframe thead th {\n",
       "        text-align: right;\n",
       "    }\n",
       "</style>\n",
       "<table border=\"1\" class=\"dataframe\">\n",
       "  <thead>\n",
       "    <tr style=\"text-align: right;\">\n",
       "      <th></th>\n",
       "      <th>Unnamed: 0</th>\n",
       "      <th>trans_date_trans_time</th>\n",
       "      <th>cc_num</th>\n",
       "      <th>merchant</th>\n",
       "      <th>category</th>\n",
       "      <th>amt</th>\n",
       "      <th>first</th>\n",
       "      <th>last</th>\n",
       "      <th>gender</th>\n",
       "      <th>street</th>\n",
       "      <th>...</th>\n",
       "      <th>lat</th>\n",
       "      <th>long</th>\n",
       "      <th>city_pop</th>\n",
       "      <th>job</th>\n",
       "      <th>dob</th>\n",
       "      <th>trans_num</th>\n",
       "      <th>unix_time</th>\n",
       "      <th>merch_lat</th>\n",
       "      <th>merch_long</th>\n",
       "      <th>is_fraud</th>\n",
       "    </tr>\n",
       "  </thead>\n",
       "  <tbody>\n",
       "    <tr>\n",
       "      <th>0</th>\n",
       "      <td>0</td>\n",
       "      <td>2020-06-21 12:14:25</td>\n",
       "      <td>2291163933867244</td>\n",
       "      <td>fraud_Kirlin and Sons</td>\n",
       "      <td>personal_care</td>\n",
       "      <td>2.86</td>\n",
       "      <td>Jeff</td>\n",
       "      <td>Elliott</td>\n",
       "      <td>M</td>\n",
       "      <td>351 Darlene Green</td>\n",
       "      <td>...</td>\n",
       "      <td>33.9659</td>\n",
       "      <td>-80.9355</td>\n",
       "      <td>333497</td>\n",
       "      <td>Mechanical engineer</td>\n",
       "      <td>1968-03-19</td>\n",
       "      <td>2da90c7d74bd46a0caf3777415b3ebd3</td>\n",
       "      <td>1371816865</td>\n",
       "      <td>33.986391</td>\n",
       "      <td>-81.200714</td>\n",
       "      <td>0</td>\n",
       "    </tr>\n",
       "    <tr>\n",
       "      <th>1</th>\n",
       "      <td>1</td>\n",
       "      <td>2020-06-21 12:14:33</td>\n",
       "      <td>3573030041201292</td>\n",
       "      <td>fraud_Sporer-Keebler</td>\n",
       "      <td>personal_care</td>\n",
       "      <td>29.84</td>\n",
       "      <td>Joanne</td>\n",
       "      <td>Williams</td>\n",
       "      <td>F</td>\n",
       "      <td>3638 Marsh Union</td>\n",
       "      <td>...</td>\n",
       "      <td>40.3207</td>\n",
       "      <td>-110.4360</td>\n",
       "      <td>302</td>\n",
       "      <td>Sales professional, IT</td>\n",
       "      <td>1990-01-17</td>\n",
       "      <td>324cc204407e99f51b0d6ca0055005e7</td>\n",
       "      <td>1371816873</td>\n",
       "      <td>39.450498</td>\n",
       "      <td>-109.960431</td>\n",
       "      <td>0</td>\n",
       "    </tr>\n",
       "    <tr>\n",
       "      <th>2</th>\n",
       "      <td>2</td>\n",
       "      <td>2020-06-21 12:14:53</td>\n",
       "      <td>3598215285024754</td>\n",
       "      <td>fraud_Swaniawski, Nitzsche and Welch</td>\n",
       "      <td>health_fitness</td>\n",
       "      <td>41.28</td>\n",
       "      <td>Ashley</td>\n",
       "      <td>Lopez</td>\n",
       "      <td>F</td>\n",
       "      <td>9333 Valentine Point</td>\n",
       "      <td>...</td>\n",
       "      <td>40.6729</td>\n",
       "      <td>-73.5365</td>\n",
       "      <td>34496</td>\n",
       "      <td>Librarian, public</td>\n",
       "      <td>1970-10-21</td>\n",
       "      <td>c81755dbbbea9d5c77f094348a7579be</td>\n",
       "      <td>1371816893</td>\n",
       "      <td>40.495810</td>\n",
       "      <td>-74.196111</td>\n",
       "      <td>0</td>\n",
       "    </tr>\n",
       "  </tbody>\n",
       "</table>\n",
       "<p>3 rows × 23 columns</p>\n",
       "</div>"
      ],
      "text/plain": [
       "   Unnamed: 0 trans_date_trans_time            cc_num  \\\n",
       "0           0   2020-06-21 12:14:25  2291163933867244   \n",
       "1           1   2020-06-21 12:14:33  3573030041201292   \n",
       "2           2   2020-06-21 12:14:53  3598215285024754   \n",
       "\n",
       "                               merchant        category    amt   first  \\\n",
       "0                 fraud_Kirlin and Sons   personal_care   2.86    Jeff   \n",
       "1                  fraud_Sporer-Keebler   personal_care  29.84  Joanne   \n",
       "2  fraud_Swaniawski, Nitzsche and Welch  health_fitness  41.28  Ashley   \n",
       "\n",
       "       last gender                street  ...      lat      long  city_pop  \\\n",
       "0   Elliott      M     351 Darlene Green  ...  33.9659  -80.9355    333497   \n",
       "1  Williams      F      3638 Marsh Union  ...  40.3207 -110.4360       302   \n",
       "2     Lopez      F  9333 Valentine Point  ...  40.6729  -73.5365     34496   \n",
       "\n",
       "                      job         dob                         trans_num  \\\n",
       "0     Mechanical engineer  1968-03-19  2da90c7d74bd46a0caf3777415b3ebd3   \n",
       "1  Sales professional, IT  1990-01-17  324cc204407e99f51b0d6ca0055005e7   \n",
       "2       Librarian, public  1970-10-21  c81755dbbbea9d5c77f094348a7579be   \n",
       "\n",
       "    unix_time  merch_lat  merch_long  is_fraud  \n",
       "0  1371816865  33.986391  -81.200714         0  \n",
       "1  1371816873  39.450498 -109.960431         0  \n",
       "2  1371816893  40.495810  -74.196111         0  \n",
       "\n",
       "[3 rows x 23 columns]"
      ]
     },
     "execution_count": 21,
     "metadata": {},
     "output_type": "execute_result"
    }
   ],
   "source": [
    "test = pd.read_csv(r\"C:\\Users\\akash\\OneDrive\\Desktop\\DATA SCIENCE\\INTERNSHIP\\CODSOFT\\Credit Card Fraud Detection\\fraudTest.csv\")\n",
    "test.head(3)"
   ]
  },
  {
   "cell_type": "markdown",
   "id": "109be7a5",
   "metadata": {},
   "source": [
    "### EDA"
   ]
  },
  {
   "cell_type": "markdown",
   "id": "00216a9b",
   "metadata": {},
   "source": [
    "#### Checking missing values"
   ]
  },
  {
   "cell_type": "code",
   "execution_count": 22,
   "id": "4b194730",
   "metadata": {
    "scrolled": true
   },
   "outputs": [
    {
     "data": {
      "text/plain": [
       "Unnamed: 0               0\n",
       "trans_date_trans_time    0\n",
       "cc_num                   0\n",
       "merchant                 0\n",
       "category                 0\n",
       "amt                      0\n",
       "first                    0\n",
       "last                     0\n",
       "gender                   0\n",
       "street                   0\n",
       "city                     0\n",
       "state                    0\n",
       "zip                      0\n",
       "lat                      0\n",
       "long                     0\n",
       "city_pop                 0\n",
       "job                      0\n",
       "dob                      0\n",
       "trans_num                0\n",
       "unix_time                0\n",
       "merch_lat                0\n",
       "merch_long               0\n",
       "is_fraud                 0\n",
       "dtype: int64"
      ]
     },
     "execution_count": 22,
     "metadata": {},
     "output_type": "execute_result"
    }
   ],
   "source": [
    "test.isnull().sum()"
   ]
  },
  {
   "cell_type": "markdown",
   "id": "b59e17f1",
   "metadata": {},
   "source": [
    "* no missing values"
   ]
  },
  {
   "cell_type": "code",
   "execution_count": 23,
   "id": "cd292990",
   "metadata": {
    "scrolled": true
   },
   "outputs": [
    {
     "data": {
      "text/plain": [
       "Index(['Unnamed: 0', 'trans_date_trans_time', 'cc_num', 'merchant', 'category',\n",
       "       'amt', 'first', 'last', 'gender', 'street', 'city', 'state', 'zip',\n",
       "       'lat', 'long', 'city_pop', 'job', 'dob', 'trans_num', 'unix_time',\n",
       "       'merch_lat', 'merch_long', 'is_fraud'],\n",
       "      dtype='object')"
      ]
     },
     "execution_count": 23,
     "metadata": {},
     "output_type": "execute_result"
    }
   ],
   "source": [
    "test.columns"
   ]
  },
  {
   "cell_type": "code",
   "execution_count": 24,
   "id": "7ad37e74",
   "metadata": {},
   "outputs": [],
   "source": [
    "test.drop(columns=['Unnamed: 0',\"cc_num\",\"lat\",\"long\",\"trans_num\",\"merch_lat\",\n",
    "                    \"merch_long\",\"trans_date_trans_time\",\"dob\"],axis=1, inplace=True)"
   ]
  },
  {
   "cell_type": "code",
   "execution_count": 25,
   "id": "588b9859",
   "metadata": {
    "scrolled": false
   },
   "outputs": [
    {
     "data": {
      "text/html": [
       "<div>\n",
       "<style scoped>\n",
       "    .dataframe tbody tr th:only-of-type {\n",
       "        vertical-align: middle;\n",
       "    }\n",
       "\n",
       "    .dataframe tbody tr th {\n",
       "        vertical-align: top;\n",
       "    }\n",
       "\n",
       "    .dataframe thead th {\n",
       "        text-align: right;\n",
       "    }\n",
       "</style>\n",
       "<table border=\"1\" class=\"dataframe\">\n",
       "  <thead>\n",
       "    <tr style=\"text-align: right;\">\n",
       "      <th></th>\n",
       "      <th>merchant</th>\n",
       "      <th>category</th>\n",
       "      <th>amt</th>\n",
       "      <th>first</th>\n",
       "      <th>last</th>\n",
       "      <th>gender</th>\n",
       "      <th>street</th>\n",
       "      <th>city</th>\n",
       "      <th>state</th>\n",
       "      <th>zip</th>\n",
       "      <th>city_pop</th>\n",
       "      <th>job</th>\n",
       "      <th>unix_time</th>\n",
       "      <th>is_fraud</th>\n",
       "    </tr>\n",
       "  </thead>\n",
       "  <tbody>\n",
       "    <tr>\n",
       "      <th>0</th>\n",
       "      <td>fraud_Kirlin and Sons</td>\n",
       "      <td>personal_care</td>\n",
       "      <td>2.86</td>\n",
       "      <td>Jeff</td>\n",
       "      <td>Elliott</td>\n",
       "      <td>M</td>\n",
       "      <td>351 Darlene Green</td>\n",
       "      <td>Columbia</td>\n",
       "      <td>SC</td>\n",
       "      <td>29209</td>\n",
       "      <td>333497</td>\n",
       "      <td>Mechanical engineer</td>\n",
       "      <td>1371816865</td>\n",
       "      <td>0</td>\n",
       "    </tr>\n",
       "    <tr>\n",
       "      <th>1</th>\n",
       "      <td>fraud_Sporer-Keebler</td>\n",
       "      <td>personal_care</td>\n",
       "      <td>29.84</td>\n",
       "      <td>Joanne</td>\n",
       "      <td>Williams</td>\n",
       "      <td>F</td>\n",
       "      <td>3638 Marsh Union</td>\n",
       "      <td>Altonah</td>\n",
       "      <td>UT</td>\n",
       "      <td>84002</td>\n",
       "      <td>302</td>\n",
       "      <td>Sales professional, IT</td>\n",
       "      <td>1371816873</td>\n",
       "      <td>0</td>\n",
       "    </tr>\n",
       "    <tr>\n",
       "      <th>2</th>\n",
       "      <td>fraud_Swaniawski, Nitzsche and Welch</td>\n",
       "      <td>health_fitness</td>\n",
       "      <td>41.28</td>\n",
       "      <td>Ashley</td>\n",
       "      <td>Lopez</td>\n",
       "      <td>F</td>\n",
       "      <td>9333 Valentine Point</td>\n",
       "      <td>Bellmore</td>\n",
       "      <td>NY</td>\n",
       "      <td>11710</td>\n",
       "      <td>34496</td>\n",
       "      <td>Librarian, public</td>\n",
       "      <td>1371816893</td>\n",
       "      <td>0</td>\n",
       "    </tr>\n",
       "  </tbody>\n",
       "</table>\n",
       "</div>"
      ],
      "text/plain": [
       "                               merchant        category    amt   first  \\\n",
       "0                 fraud_Kirlin and Sons   personal_care   2.86    Jeff   \n",
       "1                  fraud_Sporer-Keebler   personal_care  29.84  Joanne   \n",
       "2  fraud_Swaniawski, Nitzsche and Welch  health_fitness  41.28  Ashley   \n",
       "\n",
       "       last gender                street      city state    zip  city_pop  \\\n",
       "0   Elliott      M     351 Darlene Green  Columbia    SC  29209    333497   \n",
       "1  Williams      F      3638 Marsh Union   Altonah    UT  84002       302   \n",
       "2     Lopez      F  9333 Valentine Point  Bellmore    NY  11710     34496   \n",
       "\n",
       "                      job   unix_time  is_fraud  \n",
       "0     Mechanical engineer  1371816865         0  \n",
       "1  Sales professional, IT  1371816873         0  \n",
       "2       Librarian, public  1371816893         0  "
      ]
     },
     "execution_count": 25,
     "metadata": {},
     "output_type": "execute_result"
    }
   ],
   "source": [
    "test.head(3)"
   ]
  },
  {
   "cell_type": "markdown",
   "id": "557ca8b6",
   "metadata": {},
   "source": [
    "#### Converting Float to interger "
   ]
  },
  {
   "cell_type": "code",
   "execution_count": 26,
   "id": "2e96ac09",
   "metadata": {
    "scrolled": true
   },
   "outputs": [
    {
     "data": {
      "text/plain": [
       "merchant      object\n",
       "category      object\n",
       "amt          float64\n",
       "first         object\n",
       "last          object\n",
       "gender        object\n",
       "street        object\n",
       "city          object\n",
       "state         object\n",
       "zip            int64\n",
       "city_pop       int64\n",
       "job           object\n",
       "unix_time      int64\n",
       "is_fraud       int64\n",
       "dtype: object"
      ]
     },
     "execution_count": 26,
     "metadata": {},
     "output_type": "execute_result"
    }
   ],
   "source": [
    "test.dtypes"
   ]
  },
  {
   "cell_type": "code",
   "execution_count": 27,
   "id": "c56e3293",
   "metadata": {},
   "outputs": [],
   "source": [
    "test['amt'] = test['amt'].astype(\"int\")"
   ]
  },
  {
   "cell_type": "code",
   "execution_count": 28,
   "id": "d8e47386",
   "metadata": {},
   "outputs": [
    {
     "data": {
      "text/plain": [
       "merchant     object\n",
       "category     object\n",
       "amt           int32\n",
       "first        object\n",
       "last         object\n",
       "gender       object\n",
       "street       object\n",
       "city         object\n",
       "state        object\n",
       "zip           int64\n",
       "city_pop      int64\n",
       "job          object\n",
       "unix_time     int64\n",
       "is_fraud      int64\n",
       "dtype: object"
      ]
     },
     "execution_count": 28,
     "metadata": {},
     "output_type": "execute_result"
    }
   ],
   "source": [
    "test.dtypes"
   ]
  },
  {
   "cell_type": "markdown",
   "id": "4c0ea66a",
   "metadata": {},
   "source": [
    "#### Converting category to number"
   ]
  },
  {
   "cell_type": "code",
   "execution_count": 29,
   "id": "197c9ebb",
   "metadata": {
    "scrolled": true
   },
   "outputs": [],
   "source": [
    "Number1 = test[test.select_dtypes(include=[np.number]).columns.tolist()]"
   ]
  },
  {
   "cell_type": "code",
   "execution_count": 30,
   "id": "5e955547",
   "metadata": {},
   "outputs": [],
   "source": [
    "Qualitative1 = test[test.select_dtypes(include=[object]).columns.tolist()]"
   ]
  },
  {
   "cell_type": "markdown",
   "id": "5dc41e64",
   "metadata": {},
   "source": [
    "#### label Encoding"
   ]
  },
  {
   "cell_type": "code",
   "execution_count": 31,
   "id": "635abaa6",
   "metadata": {},
   "outputs": [
    {
     "data": {
      "text/html": [
       "<div>\n",
       "<style scoped>\n",
       "    .dataframe tbody tr th:only-of-type {\n",
       "        vertical-align: middle;\n",
       "    }\n",
       "\n",
       "    .dataframe tbody tr th {\n",
       "        vertical-align: top;\n",
       "    }\n",
       "\n",
       "    .dataframe thead th {\n",
       "        text-align: right;\n",
       "    }\n",
       "</style>\n",
       "<table border=\"1\" class=\"dataframe\">\n",
       "  <thead>\n",
       "    <tr style=\"text-align: right;\">\n",
       "      <th></th>\n",
       "      <th>merchant</th>\n",
       "      <th>category</th>\n",
       "      <th>first</th>\n",
       "      <th>last</th>\n",
       "      <th>gender</th>\n",
       "      <th>street</th>\n",
       "      <th>city</th>\n",
       "      <th>state</th>\n",
       "      <th>job</th>\n",
       "    </tr>\n",
       "  </thead>\n",
       "  <tbody>\n",
       "    <tr>\n",
       "      <th>0</th>\n",
       "      <td>319</td>\n",
       "      <td>10</td>\n",
       "      <td>151</td>\n",
       "      <td>115</td>\n",
       "      <td>1</td>\n",
       "      <td>341</td>\n",
       "      <td>157</td>\n",
       "      <td>39</td>\n",
       "      <td>275</td>\n",
       "    </tr>\n",
       "    <tr>\n",
       "      <th>1</th>\n",
       "      <td>591</td>\n",
       "      <td>10</td>\n",
       "      <td>163</td>\n",
       "      <td>457</td>\n",
       "      <td>0</td>\n",
       "      <td>354</td>\n",
       "      <td>16</td>\n",
       "      <td>43</td>\n",
       "      <td>392</td>\n",
       "    </tr>\n",
       "    <tr>\n",
       "      <th>2</th>\n",
       "      <td>611</td>\n",
       "      <td>5</td>\n",
       "      <td>24</td>\n",
       "      <td>249</td>\n",
       "      <td>0</td>\n",
       "      <td>865</td>\n",
       "      <td>61</td>\n",
       "      <td>33</td>\n",
       "      <td>259</td>\n",
       "    </tr>\n",
       "  </tbody>\n",
       "</table>\n",
       "</div>"
      ],
      "text/plain": [
       "   merchant  category  first  last  gender  street  city  state  job\n",
       "0       319        10    151   115       1     341   157     39  275\n",
       "1       591        10    163   457       0     354    16     43  392\n",
       "2       611         5     24   249       0     865    61     33  259"
      ]
     },
     "execution_count": 31,
     "metadata": {},
     "output_type": "execute_result"
    }
   ],
   "source": [
    "from sklearn.preprocessing import LabelEncoder\n",
    "Qualitative1 = Qualitative1.apply(LabelEncoder().fit_transform) # label in ascending order\n",
    "Qualitative1.head(3)"
   ]
  },
  {
   "cell_type": "code",
   "execution_count": 32,
   "id": "099f759f",
   "metadata": {},
   "outputs": [
    {
     "data": {
      "text/html": [
       "<div>\n",
       "<style scoped>\n",
       "    .dataframe tbody tr th:only-of-type {\n",
       "        vertical-align: middle;\n",
       "    }\n",
       "\n",
       "    .dataframe tbody tr th {\n",
       "        vertical-align: top;\n",
       "    }\n",
       "\n",
       "    .dataframe thead th {\n",
       "        text-align: right;\n",
       "    }\n",
       "</style>\n",
       "<table border=\"1\" class=\"dataframe\">\n",
       "  <thead>\n",
       "    <tr style=\"text-align: right;\">\n",
       "      <th></th>\n",
       "      <th>merchant</th>\n",
       "      <th>category</th>\n",
       "      <th>first</th>\n",
       "      <th>last</th>\n",
       "      <th>gender</th>\n",
       "      <th>street</th>\n",
       "      <th>city</th>\n",
       "      <th>state</th>\n",
       "      <th>job</th>\n",
       "      <th>amt</th>\n",
       "      <th>zip</th>\n",
       "      <th>city_pop</th>\n",
       "      <th>unix_time</th>\n",
       "      <th>is_fraud</th>\n",
       "    </tr>\n",
       "  </thead>\n",
       "  <tbody>\n",
       "    <tr>\n",
       "      <th>0</th>\n",
       "      <td>514</td>\n",
       "      <td>8</td>\n",
       "      <td>162</td>\n",
       "      <td>18</td>\n",
       "      <td>0</td>\n",
       "      <td>568</td>\n",
       "      <td>526</td>\n",
       "      <td>27</td>\n",
       "      <td>370</td>\n",
       "      <td>4</td>\n",
       "      <td>28654</td>\n",
       "      <td>3495</td>\n",
       "      <td>1325376018</td>\n",
       "      <td>0</td>\n",
       "    </tr>\n",
       "    <tr>\n",
       "      <th>1</th>\n",
       "      <td>241</td>\n",
       "      <td>4</td>\n",
       "      <td>309</td>\n",
       "      <td>157</td>\n",
       "      <td>0</td>\n",
       "      <td>435</td>\n",
       "      <td>612</td>\n",
       "      <td>47</td>\n",
       "      <td>428</td>\n",
       "      <td>107</td>\n",
       "      <td>99160</td>\n",
       "      <td>149</td>\n",
       "      <td>1325376044</td>\n",
       "      <td>0</td>\n",
       "    </tr>\n",
       "    <tr>\n",
       "      <th>2</th>\n",
       "      <td>390</td>\n",
       "      <td>0</td>\n",
       "      <td>115</td>\n",
       "      <td>381</td>\n",
       "      <td>1</td>\n",
       "      <td>602</td>\n",
       "      <td>468</td>\n",
       "      <td>13</td>\n",
       "      <td>307</td>\n",
       "      <td>220</td>\n",
       "      <td>83252</td>\n",
       "      <td>4154</td>\n",
       "      <td>1325376051</td>\n",
       "      <td>0</td>\n",
       "    </tr>\n",
       "  </tbody>\n",
       "</table>\n",
       "</div>"
      ],
      "text/plain": [
       "   merchant  category  first  last  gender  street  city  state  job  amt  \\\n",
       "0       514         8    162    18       0     568   526     27  370    4   \n",
       "1       241         4    309   157       0     435   612     47  428  107   \n",
       "2       390         0    115   381       1     602   468     13  307  220   \n",
       "\n",
       "     zip  city_pop   unix_time  is_fraud  \n",
       "0  28654      3495  1325376018         0  \n",
       "1  99160       149  1325376044         0  \n",
       "2  83252      4154  1325376051         0  "
      ]
     },
     "execution_count": 32,
     "metadata": {},
     "output_type": "execute_result"
    }
   ],
   "source": [
    "Final1 = pd.concat([Qualitative,Number],axis = 1)\n",
    "Final1.head(3)"
   ]
  },
  {
   "cell_type": "markdown",
   "id": "a9e26fb4",
   "metadata": {},
   "source": [
    "#### Splitting Dataset into X_test and y_test"
   ]
  },
  {
   "cell_type": "code",
   "execution_count": 33,
   "id": "fde4561c",
   "metadata": {
    "scrolled": true
   },
   "outputs": [
    {
     "data": {
      "text/html": [
       "<div>\n",
       "<style scoped>\n",
       "    .dataframe tbody tr th:only-of-type {\n",
       "        vertical-align: middle;\n",
       "    }\n",
       "\n",
       "    .dataframe tbody tr th {\n",
       "        vertical-align: top;\n",
       "    }\n",
       "\n",
       "    .dataframe thead th {\n",
       "        text-align: right;\n",
       "    }\n",
       "</style>\n",
       "<table border=\"1\" class=\"dataframe\">\n",
       "  <thead>\n",
       "    <tr style=\"text-align: right;\">\n",
       "      <th></th>\n",
       "      <th>merchant</th>\n",
       "      <th>category</th>\n",
       "      <th>first</th>\n",
       "      <th>last</th>\n",
       "      <th>gender</th>\n",
       "      <th>street</th>\n",
       "      <th>city</th>\n",
       "      <th>state</th>\n",
       "      <th>job</th>\n",
       "      <th>amt</th>\n",
       "      <th>zip</th>\n",
       "      <th>city_pop</th>\n",
       "      <th>unix_time</th>\n",
       "    </tr>\n",
       "  </thead>\n",
       "  <tbody>\n",
       "    <tr>\n",
       "      <th>0</th>\n",
       "      <td>514</td>\n",
       "      <td>8</td>\n",
       "      <td>162</td>\n",
       "      <td>18</td>\n",
       "      <td>0</td>\n",
       "      <td>568</td>\n",
       "      <td>526</td>\n",
       "      <td>27</td>\n",
       "      <td>370</td>\n",
       "      <td>4</td>\n",
       "      <td>28654</td>\n",
       "      <td>3495</td>\n",
       "      <td>1325376018</td>\n",
       "    </tr>\n",
       "    <tr>\n",
       "      <th>1</th>\n",
       "      <td>241</td>\n",
       "      <td>4</td>\n",
       "      <td>309</td>\n",
       "      <td>157</td>\n",
       "      <td>0</td>\n",
       "      <td>435</td>\n",
       "      <td>612</td>\n",
       "      <td>47</td>\n",
       "      <td>428</td>\n",
       "      <td>107</td>\n",
       "      <td>99160</td>\n",
       "      <td>149</td>\n",
       "      <td>1325376044</td>\n",
       "    </tr>\n",
       "    <tr>\n",
       "      <th>2</th>\n",
       "      <td>390</td>\n",
       "      <td>0</td>\n",
       "      <td>115</td>\n",
       "      <td>381</td>\n",
       "      <td>1</td>\n",
       "      <td>602</td>\n",
       "      <td>468</td>\n",
       "      <td>13</td>\n",
       "      <td>307</td>\n",
       "      <td>220</td>\n",
       "      <td>83252</td>\n",
       "      <td>4154</td>\n",
       "      <td>1325376051</td>\n",
       "    </tr>\n",
       "  </tbody>\n",
       "</table>\n",
       "</div>"
      ],
      "text/plain": [
       "   merchant  category  first  last  gender  street  city  state  job  amt  \\\n",
       "0       514         8    162    18       0     568   526     27  370    4   \n",
       "1       241         4    309   157       0     435   612     47  428  107   \n",
       "2       390         0    115   381       1     602   468     13  307  220   \n",
       "\n",
       "     zip  city_pop   unix_time  \n",
       "0  28654      3495  1325376018  \n",
       "1  99160       149  1325376044  \n",
       "2  83252      4154  1325376051  "
      ]
     },
     "execution_count": 33,
     "metadata": {},
     "output_type": "execute_result"
    }
   ],
   "source": [
    "X_test = Final1.drop([\"is_fraud\"],axis=1)\n",
    "X_test.head(3)"
   ]
  },
  {
   "cell_type": "markdown",
   "id": "75ca077c",
   "metadata": {},
   "source": [
    "#### Scaling data"
   ]
  },
  {
   "cell_type": "code",
   "execution_count": 34,
   "id": "69b28d61",
   "metadata": {},
   "outputs": [
    {
     "data": {
      "text/plain": [
       "array([[ 0.85165441,  0.45285278, -0.18724154, ..., -0.74913592,\n",
       "        -0.28258876, -1.85866447],\n",
       "       [-0.50688018, -0.56926552,  1.31992898, ...,  1.87256653,\n",
       "        -0.29366984, -1.85866244],\n",
       "       [ 0.23459108, -1.59138383, -0.66912599, ...,  1.2810418 ,\n",
       "        -0.28040632, -1.8586619 ],\n",
       "       ...,\n",
       "       [ 1.27464137, -1.33585425, -1.08949327, ...,  1.46967676,\n",
       "        -0.29118603,  1.75785644],\n",
       "       [ 0.82677283, -1.33585425, -0.01294291, ...,  0.33299588,\n",
       "        -0.29043427,  1.75786142],\n",
       "       [ 0.13506474, -1.33585425, -0.20774726, ...,  0.41164026,\n",
       "        -0.29344133,  1.7578615 ]])"
      ]
     },
     "execution_count": 34,
     "metadata": {},
     "output_type": "execute_result"
    }
   ],
   "source": [
    "from sklearn.preprocessing import StandardScaler\n",
    "\n",
    "scaler = StandardScaler()\n",
    "X_test = scaler.fit_transform(X_test)\n",
    "X_test"
   ]
  },
  {
   "cell_type": "code",
   "execution_count": 35,
   "id": "1838290e",
   "metadata": {},
   "outputs": [
    {
     "data": {
      "text/plain": [
       "array([ 1.16320943e-16,  4.11637228e-17,  1.45125138e-16, -3.50867036e-17,\n",
       "       -4.72407421e-17,  1.37842578e-17, -1.75844498e-17, -5.01943159e-17,\n",
       "       -5.93564225e-17,  7.87985003e-18, -3.35825180e-17, -1.35075315e-18,\n",
       "       -2.57135179e-15])"
      ]
     },
     "execution_count": 35,
     "metadata": {},
     "output_type": "execute_result"
    }
   ],
   "source": [
    "X_test.mean(axis=0)"
   ]
  },
  {
   "cell_type": "code",
   "execution_count": 36,
   "id": "ae587d79",
   "metadata": {},
   "outputs": [
    {
     "data": {
      "text/plain": [
       "array([1., 1., 1., 1., 1., 1., 1., 1., 1., 1., 1., 1., 1.])"
      ]
     },
     "execution_count": 36,
     "metadata": {},
     "output_type": "execute_result"
    }
   ],
   "source": [
    "X_test.std(axis=0)"
   ]
  },
  {
   "cell_type": "code",
   "execution_count": 37,
   "id": "9f6ae07d",
   "metadata": {},
   "outputs": [
    {
     "data": {
      "text/html": [
       "<div>\n",
       "<style scoped>\n",
       "    .dataframe tbody tr th:only-of-type {\n",
       "        vertical-align: middle;\n",
       "    }\n",
       "\n",
       "    .dataframe tbody tr th {\n",
       "        vertical-align: top;\n",
       "    }\n",
       "\n",
       "    .dataframe thead th {\n",
       "        text-align: right;\n",
       "    }\n",
       "</style>\n",
       "<table border=\"1\" class=\"dataframe\">\n",
       "  <thead>\n",
       "    <tr style=\"text-align: right;\">\n",
       "      <th></th>\n",
       "      <th>merchant</th>\n",
       "      <th>category</th>\n",
       "      <th>first</th>\n",
       "      <th>last</th>\n",
       "      <th>gender</th>\n",
       "      <th>street</th>\n",
       "      <th>city</th>\n",
       "      <th>state</th>\n",
       "      <th>job</th>\n",
       "      <th>amt</th>\n",
       "      <th>zip</th>\n",
       "      <th>city_pop</th>\n",
       "      <th>unix_time</th>\n",
       "    </tr>\n",
       "  </thead>\n",
       "  <tbody>\n",
       "    <tr>\n",
       "      <th>0</th>\n",
       "      <td>0.851654</td>\n",
       "      <td>0.452853</td>\n",
       "      <td>-0.187242</td>\n",
       "      <td>-1.701281</td>\n",
       "      <td>-0.909206</td>\n",
       "      <td>0.285529</td>\n",
       "      <td>0.312207</td>\n",
       "      <td>0.022519</td>\n",
       "      <td>0.848099</td>\n",
       "      <td>-0.410800</td>\n",
       "      <td>-0.749136</td>\n",
       "      <td>-0.282589</td>\n",
       "      <td>-1.858664</td>\n",
       "    </tr>\n",
       "    <tr>\n",
       "      <th>1</th>\n",
       "      <td>-0.506880</td>\n",
       "      <td>-0.569266</td>\n",
       "      <td>1.319929</td>\n",
       "      <td>-0.684263</td>\n",
       "      <td>-0.909206</td>\n",
       "      <td>-0.189368</td>\n",
       "      <td>0.644767</td>\n",
       "      <td>1.418098</td>\n",
       "      <td>1.262061</td>\n",
       "      <td>0.231684</td>\n",
       "      <td>1.872567</td>\n",
       "      <td>-0.293670</td>\n",
       "      <td>-1.858662</td>\n",
       "    </tr>\n",
       "    <tr>\n",
       "      <th>2</th>\n",
       "      <td>0.234591</td>\n",
       "      <td>-1.591384</td>\n",
       "      <td>-0.669126</td>\n",
       "      <td>0.954674</td>\n",
       "      <td>1.099861</td>\n",
       "      <td>0.406932</td>\n",
       "      <td>0.087922</td>\n",
       "      <td>-0.954386</td>\n",
       "      <td>0.398450</td>\n",
       "      <td>0.936545</td>\n",
       "      <td>1.281042</td>\n",
       "      <td>-0.280406</td>\n",
       "      <td>-1.858662</td>\n",
       "    </tr>\n",
       "    <tr>\n",
       "      <th>3</th>\n",
       "      <td>0.085302</td>\n",
       "      <td>-1.080325</td>\n",
       "      <td>-0.176989</td>\n",
       "      <td>1.554641</td>\n",
       "      <td>1.099861</td>\n",
       "      <td>1.578106</td>\n",
       "      <td>-1.396996</td>\n",
       "      <td>-0.047260</td>\n",
       "      <td>0.548333</td>\n",
       "      <td>-0.155054</td>\n",
       "      <td>0.402753</td>\n",
       "      <td>-0.287742</td>\n",
       "      <td>-1.858660</td>\n",
       "    </tr>\n",
       "    <tr>\n",
       "      <th>4</th>\n",
       "      <td>-0.228206</td>\n",
       "      <td>0.708382</td>\n",
       "      <td>1.596756</td>\n",
       "      <td>-0.742796</td>\n",
       "      <td>1.099861</td>\n",
       "      <td>-0.250069</td>\n",
       "      <td>-0.886556</td>\n",
       "      <td>1.278540</td>\n",
       "      <td>-0.964771</td>\n",
       "      <td>-0.180005</td>\n",
       "      <td>-0.906090</td>\n",
       "      <td>-0.293835</td>\n",
       "      <td>-1.858651</td>\n",
       "    </tr>\n",
       "  </tbody>\n",
       "</table>\n",
       "</div>"
      ],
      "text/plain": [
       "   merchant  category     first      last    gender    street      city  \\\n",
       "0  0.851654  0.452853 -0.187242 -1.701281 -0.909206  0.285529  0.312207   \n",
       "1 -0.506880 -0.569266  1.319929 -0.684263 -0.909206 -0.189368  0.644767   \n",
       "2  0.234591 -1.591384 -0.669126  0.954674  1.099861  0.406932  0.087922   \n",
       "3  0.085302 -1.080325 -0.176989  1.554641  1.099861  1.578106 -1.396996   \n",
       "4 -0.228206  0.708382  1.596756 -0.742796  1.099861 -0.250069 -0.886556   \n",
       "\n",
       "      state       job       amt       zip  city_pop  unix_time  \n",
       "0  0.022519  0.848099 -0.410800 -0.749136 -0.282589  -1.858664  \n",
       "1  1.418098  1.262061  0.231684  1.872567 -0.293670  -1.858662  \n",
       "2 -0.954386  0.398450  0.936545  1.281042 -0.280406  -1.858662  \n",
       "3 -0.047260  0.548333 -0.155054  0.402753 -0.287742  -1.858660  \n",
       "4  1.278540 -0.964771 -0.180005 -0.906090 -0.293835  -1.858651  "
      ]
     },
     "execution_count": 37,
     "metadata": {},
     "output_type": "execute_result"
    }
   ],
   "source": [
    "X_test = pd.DataFrame(X_test,columns=['merchant','category','first','last','gender','street','city','state','job','amt','zip','city_pop','unix_time'])\n",
    "X_test.head()"
   ]
  },
  {
   "cell_type": "code",
   "execution_count": 38,
   "id": "dc374f7d",
   "metadata": {
    "scrolled": false
   },
   "outputs": [
    {
     "data": {
      "text/html": [
       "<div>\n",
       "<style scoped>\n",
       "    .dataframe tbody tr th:only-of-type {\n",
       "        vertical-align: middle;\n",
       "    }\n",
       "\n",
       "    .dataframe tbody tr th {\n",
       "        vertical-align: top;\n",
       "    }\n",
       "\n",
       "    .dataframe thead th {\n",
       "        text-align: right;\n",
       "    }\n",
       "</style>\n",
       "<table border=\"1\" class=\"dataframe\">\n",
       "  <thead>\n",
       "    <tr style=\"text-align: right;\">\n",
       "      <th></th>\n",
       "      <th>is_fraud</th>\n",
       "    </tr>\n",
       "  </thead>\n",
       "  <tbody>\n",
       "    <tr>\n",
       "      <th>0</th>\n",
       "      <td>0</td>\n",
       "    </tr>\n",
       "    <tr>\n",
       "      <th>1</th>\n",
       "      <td>0</td>\n",
       "    </tr>\n",
       "    <tr>\n",
       "      <th>2</th>\n",
       "      <td>0</td>\n",
       "    </tr>\n",
       "  </tbody>\n",
       "</table>\n",
       "</div>"
      ],
      "text/plain": [
       "   is_fraud\n",
       "0         0\n",
       "1         0\n",
       "2         0"
      ]
     },
     "execution_count": 38,
     "metadata": {},
     "output_type": "execute_result"
    }
   ],
   "source": [
    "y_test = Final1[[\"is_fraud\"]]\n",
    "y_test.head(3)"
   ]
  },
  {
   "cell_type": "code",
   "execution_count": 39,
   "id": "2a623c06",
   "metadata": {},
   "outputs": [
    {
     "data": {
      "text/html": [
       "<div>\n",
       "<style scoped>\n",
       "    .dataframe tbody tr th:only-of-type {\n",
       "        vertical-align: middle;\n",
       "    }\n",
       "\n",
       "    .dataframe tbody tr th {\n",
       "        vertical-align: top;\n",
       "    }\n",
       "\n",
       "    .dataframe thead th {\n",
       "        text-align: right;\n",
       "    }\n",
       "</style>\n",
       "<table border=\"1\" class=\"dataframe\">\n",
       "  <thead>\n",
       "    <tr style=\"text-align: right;\">\n",
       "      <th></th>\n",
       "      <th>is_fraud</th>\n",
       "    </tr>\n",
       "  </thead>\n",
       "  <tbody>\n",
       "    <tr>\n",
       "      <th>0</th>\n",
       "      <td>0</td>\n",
       "    </tr>\n",
       "    <tr>\n",
       "      <th>1</th>\n",
       "      <td>0</td>\n",
       "    </tr>\n",
       "    <tr>\n",
       "      <th>2</th>\n",
       "      <td>0</td>\n",
       "    </tr>\n",
       "  </tbody>\n",
       "</table>\n",
       "</div>"
      ],
      "text/plain": [
       "   is_fraud\n",
       "0         0\n",
       "1         0\n",
       "2         0"
      ]
     },
     "execution_count": 39,
     "metadata": {},
     "output_type": "execute_result"
    }
   ],
   "source": [
    "y_test.reset_index(drop=True, inplace=True)\n",
    "y_test.head(3)"
   ]
  },
  {
   "cell_type": "markdown",
   "id": "5256aa6d",
   "metadata": {},
   "source": [
    "### Model Building"
   ]
  },
  {
   "cell_type": "markdown",
   "id": "1558653b",
   "metadata": {},
   "source": [
    "### Logistic Regression"
   ]
  },
  {
   "cell_type": "code",
   "execution_count": 40,
   "id": "1fd40558",
   "metadata": {},
   "outputs": [
    {
     "data": {
      "text/html": [
       "<style>#sk-container-id-1 {color: black;}#sk-container-id-1 pre{padding: 0;}#sk-container-id-1 div.sk-toggleable {background-color: white;}#sk-container-id-1 label.sk-toggleable__label {cursor: pointer;display: block;width: 100%;margin-bottom: 0;padding: 0.3em;box-sizing: border-box;text-align: center;}#sk-container-id-1 label.sk-toggleable__label-arrow:before {content: \"▸\";float: left;margin-right: 0.25em;color: #696969;}#sk-container-id-1 label.sk-toggleable__label-arrow:hover:before {color: black;}#sk-container-id-1 div.sk-estimator:hover label.sk-toggleable__label-arrow:before {color: black;}#sk-container-id-1 div.sk-toggleable__content {max-height: 0;max-width: 0;overflow: hidden;text-align: left;background-color: #f0f8ff;}#sk-container-id-1 div.sk-toggleable__content pre {margin: 0.2em;color: black;border-radius: 0.25em;background-color: #f0f8ff;}#sk-container-id-1 input.sk-toggleable__control:checked~div.sk-toggleable__content {max-height: 200px;max-width: 100%;overflow: auto;}#sk-container-id-1 input.sk-toggleable__control:checked~label.sk-toggleable__label-arrow:before {content: \"▾\";}#sk-container-id-1 div.sk-estimator input.sk-toggleable__control:checked~label.sk-toggleable__label {background-color: #d4ebff;}#sk-container-id-1 div.sk-label input.sk-toggleable__control:checked~label.sk-toggleable__label {background-color: #d4ebff;}#sk-container-id-1 input.sk-hidden--visually {border: 0;clip: rect(1px 1px 1px 1px);clip: rect(1px, 1px, 1px, 1px);height: 1px;margin: -1px;overflow: hidden;padding: 0;position: absolute;width: 1px;}#sk-container-id-1 div.sk-estimator {font-family: monospace;background-color: #f0f8ff;border: 1px dotted black;border-radius: 0.25em;box-sizing: border-box;margin-bottom: 0.5em;}#sk-container-id-1 div.sk-estimator:hover {background-color: #d4ebff;}#sk-container-id-1 div.sk-parallel-item::after {content: \"\";width: 100%;border-bottom: 1px solid gray;flex-grow: 1;}#sk-container-id-1 div.sk-label:hover label.sk-toggleable__label {background-color: #d4ebff;}#sk-container-id-1 div.sk-serial::before {content: \"\";position: absolute;border-left: 1px solid gray;box-sizing: border-box;top: 0;bottom: 0;left: 50%;z-index: 0;}#sk-container-id-1 div.sk-serial {display: flex;flex-direction: column;align-items: center;background-color: white;padding-right: 0.2em;padding-left: 0.2em;position: relative;}#sk-container-id-1 div.sk-item {position: relative;z-index: 1;}#sk-container-id-1 div.sk-parallel {display: flex;align-items: stretch;justify-content: center;background-color: white;position: relative;}#sk-container-id-1 div.sk-item::before, #sk-container-id-1 div.sk-parallel-item::before {content: \"\";position: absolute;border-left: 1px solid gray;box-sizing: border-box;top: 0;bottom: 0;left: 50%;z-index: -1;}#sk-container-id-1 div.sk-parallel-item {display: flex;flex-direction: column;z-index: 1;position: relative;background-color: white;}#sk-container-id-1 div.sk-parallel-item:first-child::after {align-self: flex-end;width: 50%;}#sk-container-id-1 div.sk-parallel-item:last-child::after {align-self: flex-start;width: 50%;}#sk-container-id-1 div.sk-parallel-item:only-child::after {width: 0;}#sk-container-id-1 div.sk-dashed-wrapped {border: 1px dashed gray;margin: 0 0.4em 0.5em 0.4em;box-sizing: border-box;padding-bottom: 0.4em;background-color: white;}#sk-container-id-1 div.sk-label label {font-family: monospace;font-weight: bold;display: inline-block;line-height: 1.2em;}#sk-container-id-1 div.sk-label-container {text-align: center;}#sk-container-id-1 div.sk-container {/* jupyter's `normalize.less` sets `[hidden] { display: none; }` but bootstrap.min.css set `[hidden] { display: none !important; }` so we also need the `!important` here to be able to override the default hidden behavior on the sphinx rendered scikit-learn.org. See: https://github.com/scikit-learn/scikit-learn/issues/21755 */display: inline-block !important;position: relative;}#sk-container-id-1 div.sk-text-repr-fallback {display: none;}</style><div id=\"sk-container-id-1\" class=\"sk-top-container\"><div class=\"sk-text-repr-fallback\"><pre>LogisticRegression()</pre><b>In a Jupyter environment, please rerun this cell to show the HTML representation or trust the notebook. <br />On GitHub, the HTML representation is unable to render, please try loading this page with nbviewer.org.</b></div><div class=\"sk-container\" hidden><div class=\"sk-item\"><div class=\"sk-estimator sk-toggleable\"><input class=\"sk-toggleable__control sk-hidden--visually\" id=\"sk-estimator-id-1\" type=\"checkbox\" checked><label for=\"sk-estimator-id-1\" class=\"sk-toggleable__label sk-toggleable__label-arrow\">LogisticRegression</label><div class=\"sk-toggleable__content\"><pre>LogisticRegression()</pre></div></div></div></div></div>"
      ],
      "text/plain": [
       "LogisticRegression()"
      ]
     },
     "execution_count": 40,
     "metadata": {},
     "output_type": "execute_result"
    }
   ],
   "source": [
    "from sklearn.linear_model import LogisticRegression\n",
    "\n",
    "logreg = LogisticRegression()\n",
    "output = logreg.fit(X_train, y_train) \n",
    "output"
   ]
  },
  {
   "cell_type": "code",
   "execution_count": 41,
   "id": "3e38e87e",
   "metadata": {},
   "outputs": [
    {
     "data": {
      "text/plain": [
       "array([-5.33805492])"
      ]
     },
     "execution_count": 41,
     "metadata": {},
     "output_type": "execute_result"
    }
   ],
   "source": [
    "output.intercept_    # Beto "
   ]
  },
  {
   "cell_type": "code",
   "execution_count": 42,
   "id": "4e3e15e6",
   "metadata": {},
   "outputs": [
    {
     "data": {
      "text/plain": [
       "array([[-0.01067903,  0.05290714, -0.04249691,  0.00080217,  0.11164789,\n",
       "         0.01432893, -0.02948181,  0.02646087, -0.00417841,  0.43471446,\n",
       "        -0.01934525,  0.02060783, -0.07179589]])"
      ]
     },
     "execution_count": 42,
     "metadata": {},
     "output_type": "execute_result"
    }
   ],
   "source": [
    "output.coef_         # Beta 1 -- "
   ]
  },
  {
   "cell_type": "markdown",
   "id": "1339e89f",
   "metadata": {},
   "source": [
    "#### Prediction on Train Dataset"
   ]
  },
  {
   "cell_type": "code",
   "execution_count": 43,
   "id": "51845c98",
   "metadata": {},
   "outputs": [
    {
     "data": {
      "text/html": [
       "<div>\n",
       "<style scoped>\n",
       "    .dataframe tbody tr th:only-of-type {\n",
       "        vertical-align: middle;\n",
       "    }\n",
       "\n",
       "    .dataframe tbody tr th {\n",
       "        vertical-align: top;\n",
       "    }\n",
       "\n",
       "    .dataframe thead th {\n",
       "        text-align: right;\n",
       "    }\n",
       "</style>\n",
       "<table border=\"1\" class=\"dataframe\">\n",
       "  <thead>\n",
       "    <tr style=\"text-align: right;\">\n",
       "      <th></th>\n",
       "      <th>merchant</th>\n",
       "      <th>category</th>\n",
       "      <th>first</th>\n",
       "      <th>last</th>\n",
       "      <th>gender</th>\n",
       "      <th>street</th>\n",
       "      <th>city</th>\n",
       "      <th>state</th>\n",
       "      <th>job</th>\n",
       "      <th>amt</th>\n",
       "      <th>zip</th>\n",
       "      <th>city_pop</th>\n",
       "      <th>unix_time</th>\n",
       "      <th>is_fraud</th>\n",
       "    </tr>\n",
       "  </thead>\n",
       "  <tbody>\n",
       "    <tr>\n",
       "      <th>0</th>\n",
       "      <td>0.851654</td>\n",
       "      <td>0.452853</td>\n",
       "      <td>-0.187242</td>\n",
       "      <td>-1.701281</td>\n",
       "      <td>-0.909206</td>\n",
       "      <td>0.285529</td>\n",
       "      <td>0.312207</td>\n",
       "      <td>0.022519</td>\n",
       "      <td>0.848099</td>\n",
       "      <td>-0.410800</td>\n",
       "      <td>-0.749136</td>\n",
       "      <td>-0.282589</td>\n",
       "      <td>-1.858664</td>\n",
       "      <td>0</td>\n",
       "    </tr>\n",
       "    <tr>\n",
       "      <th>1</th>\n",
       "      <td>-0.506880</td>\n",
       "      <td>-0.569266</td>\n",
       "      <td>1.319929</td>\n",
       "      <td>-0.684263</td>\n",
       "      <td>-0.909206</td>\n",
       "      <td>-0.189368</td>\n",
       "      <td>0.644767</td>\n",
       "      <td>1.418098</td>\n",
       "      <td>1.262061</td>\n",
       "      <td>0.231684</td>\n",
       "      <td>1.872567</td>\n",
       "      <td>-0.293670</td>\n",
       "      <td>-1.858662</td>\n",
       "      <td>0</td>\n",
       "    </tr>\n",
       "    <tr>\n",
       "      <th>2</th>\n",
       "      <td>0.234591</td>\n",
       "      <td>-1.591384</td>\n",
       "      <td>-0.669126</td>\n",
       "      <td>0.954674</td>\n",
       "      <td>1.099861</td>\n",
       "      <td>0.406932</td>\n",
       "      <td>0.087922</td>\n",
       "      <td>-0.954386</td>\n",
       "      <td>0.398450</td>\n",
       "      <td>0.936545</td>\n",
       "      <td>1.281042</td>\n",
       "      <td>-0.280406</td>\n",
       "      <td>-1.858662</td>\n",
       "      <td>0</td>\n",
       "    </tr>\n",
       "  </tbody>\n",
       "</table>\n",
       "</div>"
      ],
      "text/plain": [
       "   merchant  category     first      last    gender    street      city  \\\n",
       "0  0.851654  0.452853 -0.187242 -1.701281 -0.909206  0.285529  0.312207   \n",
       "1 -0.506880 -0.569266  1.319929 -0.684263 -0.909206 -0.189368  0.644767   \n",
       "2  0.234591 -1.591384 -0.669126  0.954674  1.099861  0.406932  0.087922   \n",
       "\n",
       "      state       job       amt       zip  city_pop  unix_time  is_fraud  \n",
       "0  0.022519  0.848099 -0.410800 -0.749136 -0.282589  -1.858664         0  \n",
       "1  1.418098  1.262061  0.231684  1.872567 -0.293670  -1.858662         0  \n",
       "2 -0.954386  0.398450  0.936545  1.281042 -0.280406  -1.858662         0  "
      ]
     },
     "execution_count": 43,
     "metadata": {},
     "output_type": "execute_result"
    }
   ],
   "source": [
    "train1 = pd.concat([X_train,y_train],axis=1)\n",
    "train1.head(3)"
   ]
  },
  {
   "cell_type": "code",
   "execution_count": 44,
   "id": "5d586568",
   "metadata": {},
   "outputs": [
    {
     "data": {
      "text/html": [
       "<div>\n",
       "<style scoped>\n",
       "    .dataframe tbody tr th:only-of-type {\n",
       "        vertical-align: middle;\n",
       "    }\n",
       "\n",
       "    .dataframe tbody tr th {\n",
       "        vertical-align: top;\n",
       "    }\n",
       "\n",
       "    .dataframe thead th {\n",
       "        text-align: right;\n",
       "    }\n",
       "</style>\n",
       "<table border=\"1\" class=\"dataframe\">\n",
       "  <thead>\n",
       "    <tr style=\"text-align: right;\">\n",
       "      <th></th>\n",
       "      <th>merchant</th>\n",
       "      <th>category</th>\n",
       "      <th>first</th>\n",
       "      <th>last</th>\n",
       "      <th>gender</th>\n",
       "      <th>street</th>\n",
       "      <th>city</th>\n",
       "      <th>state</th>\n",
       "      <th>job</th>\n",
       "      <th>amt</th>\n",
       "      <th>zip</th>\n",
       "      <th>city_pop</th>\n",
       "      <th>unix_time</th>\n",
       "      <th>is_fraud</th>\n",
       "      <th>Predicted</th>\n",
       "    </tr>\n",
       "  </thead>\n",
       "  <tbody>\n",
       "    <tr>\n",
       "      <th>0</th>\n",
       "      <td>0.851654</td>\n",
       "      <td>0.452853</td>\n",
       "      <td>-0.187242</td>\n",
       "      <td>-1.701281</td>\n",
       "      <td>-0.909206</td>\n",
       "      <td>0.285529</td>\n",
       "      <td>0.312207</td>\n",
       "      <td>0.022519</td>\n",
       "      <td>0.848099</td>\n",
       "      <td>-0.410800</td>\n",
       "      <td>-0.749136</td>\n",
       "      <td>-0.282589</td>\n",
       "      <td>-1.858664</td>\n",
       "      <td>0</td>\n",
       "      <td>0</td>\n",
       "    </tr>\n",
       "    <tr>\n",
       "      <th>1</th>\n",
       "      <td>-0.506880</td>\n",
       "      <td>-0.569266</td>\n",
       "      <td>1.319929</td>\n",
       "      <td>-0.684263</td>\n",
       "      <td>-0.909206</td>\n",
       "      <td>-0.189368</td>\n",
       "      <td>0.644767</td>\n",
       "      <td>1.418098</td>\n",
       "      <td>1.262061</td>\n",
       "      <td>0.231684</td>\n",
       "      <td>1.872567</td>\n",
       "      <td>-0.293670</td>\n",
       "      <td>-1.858662</td>\n",
       "      <td>0</td>\n",
       "      <td>0</td>\n",
       "    </tr>\n",
       "    <tr>\n",
       "      <th>2</th>\n",
       "      <td>0.234591</td>\n",
       "      <td>-1.591384</td>\n",
       "      <td>-0.669126</td>\n",
       "      <td>0.954674</td>\n",
       "      <td>1.099861</td>\n",
       "      <td>0.406932</td>\n",
       "      <td>0.087922</td>\n",
       "      <td>-0.954386</td>\n",
       "      <td>0.398450</td>\n",
       "      <td>0.936545</td>\n",
       "      <td>1.281042</td>\n",
       "      <td>-0.280406</td>\n",
       "      <td>-1.858662</td>\n",
       "      <td>0</td>\n",
       "      <td>0</td>\n",
       "    </tr>\n",
       "  </tbody>\n",
       "</table>\n",
       "</div>"
      ],
      "text/plain": [
       "   merchant  category     first      last    gender    street      city  \\\n",
       "0  0.851654  0.452853 -0.187242 -1.701281 -0.909206  0.285529  0.312207   \n",
       "1 -0.506880 -0.569266  1.319929 -0.684263 -0.909206 -0.189368  0.644767   \n",
       "2  0.234591 -1.591384 -0.669126  0.954674  1.099861  0.406932  0.087922   \n",
       "\n",
       "      state       job       amt       zip  city_pop  unix_time  is_fraud  \\\n",
       "0  0.022519  0.848099 -0.410800 -0.749136 -0.282589  -1.858664         0   \n",
       "1  1.418098  1.262061  0.231684  1.872567 -0.293670  -1.858662         0   \n",
       "2 -0.954386  0.398450  0.936545  1.281042 -0.280406  -1.858662         0   \n",
       "\n",
       "   Predicted  \n",
       "0          0  \n",
       "1          0  \n",
       "2          0  "
      ]
     },
     "execution_count": 44,
     "metadata": {},
     "output_type": "execute_result"
    }
   ],
   "source": [
    "train1['Predicted'] = output.predict(X_train)\n",
    "train1.head(3)"
   ]
  },
  {
   "cell_type": "code",
   "execution_count": 45,
   "id": "f1f2dd23",
   "metadata": {},
   "outputs": [
    {
     "data": {
      "text/plain": [
       "array([[1288445,    7506],\n",
       "       [    724,       0]], dtype=int64)"
      ]
     },
     "execution_count": 45,
     "metadata": {},
     "output_type": "execute_result"
    }
   ],
   "source": [
    "from sklearn.metrics import confusion_matrix\n",
    "\n",
    "matrix = confusion_matrix(train1['Predicted'], train1['is_fraud'])\n",
    "matrix"
   ]
  },
  {
   "cell_type": "code",
   "execution_count": 46,
   "id": "4be02756",
   "metadata": {
    "scrolled": true
   },
   "outputs": [
    {
     "name": "stdout",
     "output_type": "stream",
     "text": [
      "99.36529970887077\n"
     ]
    }
   ],
   "source": [
    "Accuracy_Train=((1288445)/(1288445+7506+724)*100)\n",
    "print(Accuracy_Train)"
   ]
  },
  {
   "cell_type": "code",
   "execution_count": 47,
   "id": "05f09594",
   "metadata": {
    "scrolled": true
   },
   "outputs": [
    {
     "name": "stdout",
     "output_type": "stream",
     "text": [
      "              precision    recall  f1-score   support\n",
      "\n",
      "           0       0.99      1.00      1.00   1289169\n",
      "           1       0.00      0.00      0.00      7506\n",
      "\n",
      "    accuracy                           0.99   1296675\n",
      "   macro avg       0.50      0.50      0.50   1296675\n",
      "weighted avg       0.99      0.99      0.99   1296675\n",
      "\n"
     ]
    }
   ],
   "source": [
    "from sklearn.metrics import classification_report\n",
    "print(classification_report(train1['is_fraud'],train1['Predicted']))"
   ]
  },
  {
   "cell_type": "markdown",
   "id": "868a4840",
   "metadata": {},
   "source": [
    "* Accuracy of train = 99"
   ]
  },
  {
   "cell_type": "markdown",
   "id": "f4734ab8",
   "metadata": {},
   "source": [
    "#### Prediction on Test Dataset"
   ]
  },
  {
   "cell_type": "code",
   "execution_count": 48,
   "id": "86f1fbbe",
   "metadata": {},
   "outputs": [
    {
     "data": {
      "text/html": [
       "<div>\n",
       "<style scoped>\n",
       "    .dataframe tbody tr th:only-of-type {\n",
       "        vertical-align: middle;\n",
       "    }\n",
       "\n",
       "    .dataframe tbody tr th {\n",
       "        vertical-align: top;\n",
       "    }\n",
       "\n",
       "    .dataframe thead th {\n",
       "        text-align: right;\n",
       "    }\n",
       "</style>\n",
       "<table border=\"1\" class=\"dataframe\">\n",
       "  <thead>\n",
       "    <tr style=\"text-align: right;\">\n",
       "      <th></th>\n",
       "      <th>merchant</th>\n",
       "      <th>category</th>\n",
       "      <th>first</th>\n",
       "      <th>last</th>\n",
       "      <th>gender</th>\n",
       "      <th>street</th>\n",
       "      <th>city</th>\n",
       "      <th>state</th>\n",
       "      <th>job</th>\n",
       "      <th>amt</th>\n",
       "      <th>zip</th>\n",
       "      <th>city_pop</th>\n",
       "      <th>unix_time</th>\n",
       "      <th>is_fraud</th>\n",
       "    </tr>\n",
       "  </thead>\n",
       "  <tbody>\n",
       "    <tr>\n",
       "      <th>0</th>\n",
       "      <td>0.851654</td>\n",
       "      <td>0.452853</td>\n",
       "      <td>-0.187242</td>\n",
       "      <td>-1.701281</td>\n",
       "      <td>-0.909206</td>\n",
       "      <td>0.285529</td>\n",
       "      <td>0.312207</td>\n",
       "      <td>0.022519</td>\n",
       "      <td>0.848099</td>\n",
       "      <td>-0.410800</td>\n",
       "      <td>-0.749136</td>\n",
       "      <td>-0.282589</td>\n",
       "      <td>-1.858664</td>\n",
       "      <td>0</td>\n",
       "    </tr>\n",
       "    <tr>\n",
       "      <th>1</th>\n",
       "      <td>-0.506880</td>\n",
       "      <td>-0.569266</td>\n",
       "      <td>1.319929</td>\n",
       "      <td>-0.684263</td>\n",
       "      <td>-0.909206</td>\n",
       "      <td>-0.189368</td>\n",
       "      <td>0.644767</td>\n",
       "      <td>1.418098</td>\n",
       "      <td>1.262061</td>\n",
       "      <td>0.231684</td>\n",
       "      <td>1.872567</td>\n",
       "      <td>-0.293670</td>\n",
       "      <td>-1.858662</td>\n",
       "      <td>0</td>\n",
       "    </tr>\n",
       "    <tr>\n",
       "      <th>2</th>\n",
       "      <td>0.234591</td>\n",
       "      <td>-1.591384</td>\n",
       "      <td>-0.669126</td>\n",
       "      <td>0.954674</td>\n",
       "      <td>1.099861</td>\n",
       "      <td>0.406932</td>\n",
       "      <td>0.087922</td>\n",
       "      <td>-0.954386</td>\n",
       "      <td>0.398450</td>\n",
       "      <td>0.936545</td>\n",
       "      <td>1.281042</td>\n",
       "      <td>-0.280406</td>\n",
       "      <td>-1.858662</td>\n",
       "      <td>0</td>\n",
       "    </tr>\n",
       "  </tbody>\n",
       "</table>\n",
       "</div>"
      ],
      "text/plain": [
       "   merchant  category     first      last    gender    street      city  \\\n",
       "0  0.851654  0.452853 -0.187242 -1.701281 -0.909206  0.285529  0.312207   \n",
       "1 -0.506880 -0.569266  1.319929 -0.684263 -0.909206 -0.189368  0.644767   \n",
       "2  0.234591 -1.591384 -0.669126  0.954674  1.099861  0.406932  0.087922   \n",
       "\n",
       "      state       job       amt       zip  city_pop  unix_time  is_fraud  \n",
       "0  0.022519  0.848099 -0.410800 -0.749136 -0.282589  -1.858664         0  \n",
       "1  1.418098  1.262061  0.231684  1.872567 -0.293670  -1.858662         0  \n",
       "2 -0.954386  0.398450  0.936545  1.281042 -0.280406  -1.858662         0  "
      ]
     },
     "execution_count": 48,
     "metadata": {},
     "output_type": "execute_result"
    }
   ],
   "source": [
    "test1 = pd.concat([X_test,y_test],axis=1)\n",
    "test1.head(3)"
   ]
  },
  {
   "cell_type": "code",
   "execution_count": 49,
   "id": "4cbaa609",
   "metadata": {},
   "outputs": [
    {
     "data": {
      "text/html": [
       "<div>\n",
       "<style scoped>\n",
       "    .dataframe tbody tr th:only-of-type {\n",
       "        vertical-align: middle;\n",
       "    }\n",
       "\n",
       "    .dataframe tbody tr th {\n",
       "        vertical-align: top;\n",
       "    }\n",
       "\n",
       "    .dataframe thead th {\n",
       "        text-align: right;\n",
       "    }\n",
       "</style>\n",
       "<table border=\"1\" class=\"dataframe\">\n",
       "  <thead>\n",
       "    <tr style=\"text-align: right;\">\n",
       "      <th></th>\n",
       "      <th>merchant</th>\n",
       "      <th>category</th>\n",
       "      <th>first</th>\n",
       "      <th>last</th>\n",
       "      <th>gender</th>\n",
       "      <th>street</th>\n",
       "      <th>city</th>\n",
       "      <th>state</th>\n",
       "      <th>job</th>\n",
       "      <th>amt</th>\n",
       "      <th>zip</th>\n",
       "      <th>city_pop</th>\n",
       "      <th>unix_time</th>\n",
       "      <th>is_fraud</th>\n",
       "      <th>Predicted</th>\n",
       "    </tr>\n",
       "  </thead>\n",
       "  <tbody>\n",
       "    <tr>\n",
       "      <th>0</th>\n",
       "      <td>0.851654</td>\n",
       "      <td>0.452853</td>\n",
       "      <td>-0.187242</td>\n",
       "      <td>-1.701281</td>\n",
       "      <td>-0.909206</td>\n",
       "      <td>0.285529</td>\n",
       "      <td>0.312207</td>\n",
       "      <td>0.022519</td>\n",
       "      <td>0.848099</td>\n",
       "      <td>-0.410800</td>\n",
       "      <td>-0.749136</td>\n",
       "      <td>-0.282589</td>\n",
       "      <td>-1.858664</td>\n",
       "      <td>0</td>\n",
       "      <td>0</td>\n",
       "    </tr>\n",
       "    <tr>\n",
       "      <th>1</th>\n",
       "      <td>-0.506880</td>\n",
       "      <td>-0.569266</td>\n",
       "      <td>1.319929</td>\n",
       "      <td>-0.684263</td>\n",
       "      <td>-0.909206</td>\n",
       "      <td>-0.189368</td>\n",
       "      <td>0.644767</td>\n",
       "      <td>1.418098</td>\n",
       "      <td>1.262061</td>\n",
       "      <td>0.231684</td>\n",
       "      <td>1.872567</td>\n",
       "      <td>-0.293670</td>\n",
       "      <td>-1.858662</td>\n",
       "      <td>0</td>\n",
       "      <td>0</td>\n",
       "    </tr>\n",
       "    <tr>\n",
       "      <th>2</th>\n",
       "      <td>0.234591</td>\n",
       "      <td>-1.591384</td>\n",
       "      <td>-0.669126</td>\n",
       "      <td>0.954674</td>\n",
       "      <td>1.099861</td>\n",
       "      <td>0.406932</td>\n",
       "      <td>0.087922</td>\n",
       "      <td>-0.954386</td>\n",
       "      <td>0.398450</td>\n",
       "      <td>0.936545</td>\n",
       "      <td>1.281042</td>\n",
       "      <td>-0.280406</td>\n",
       "      <td>-1.858662</td>\n",
       "      <td>0</td>\n",
       "      <td>0</td>\n",
       "    </tr>\n",
       "  </tbody>\n",
       "</table>\n",
       "</div>"
      ],
      "text/plain": [
       "   merchant  category     first      last    gender    street      city  \\\n",
       "0  0.851654  0.452853 -0.187242 -1.701281 -0.909206  0.285529  0.312207   \n",
       "1 -0.506880 -0.569266  1.319929 -0.684263 -0.909206 -0.189368  0.644767   \n",
       "2  0.234591 -1.591384 -0.669126  0.954674  1.099861  0.406932  0.087922   \n",
       "\n",
       "      state       job       amt       zip  city_pop  unix_time  is_fraud  \\\n",
       "0  0.022519  0.848099 -0.410800 -0.749136 -0.282589  -1.858664         0   \n",
       "1  1.418098  1.262061  0.231684  1.872567 -0.293670  -1.858662         0   \n",
       "2 -0.954386  0.398450  0.936545  1.281042 -0.280406  -1.858662         0   \n",
       "\n",
       "   Predicted  \n",
       "0          0  \n",
       "1          0  \n",
       "2          0  "
      ]
     },
     "execution_count": 49,
     "metadata": {},
     "output_type": "execute_result"
    }
   ],
   "source": [
    "test1['Predicted'] = output.predict(X_test)\n",
    "test1.head(3)"
   ]
  },
  {
   "cell_type": "code",
   "execution_count": 50,
   "id": "409d59b2",
   "metadata": {},
   "outputs": [
    {
     "data": {
      "text/plain": [
       "array([[1288445,    7506],\n",
       "       [    724,       0]], dtype=int64)"
      ]
     },
     "execution_count": 50,
     "metadata": {},
     "output_type": "execute_result"
    }
   ],
   "source": [
    "from sklearn.metrics import confusion_matrix\n",
    "matrix = confusion_matrix(test1['Predicted'], test1['is_fraud'])\n",
    "matrix"
   ]
  },
  {
   "cell_type": "code",
   "execution_count": 51,
   "id": "19d0e4d8",
   "metadata": {},
   "outputs": [
    {
     "name": "stdout",
     "output_type": "stream",
     "text": [
      "99.36529970887077\n"
     ]
    }
   ],
   "source": [
    "Accuracy_test=((1288445)/(1288445+7506+724)*100)\n",
    "print(Accuracy_test)"
   ]
  },
  {
   "cell_type": "code",
   "execution_count": 52,
   "id": "f6896baa",
   "metadata": {
    "scrolled": true
   },
   "outputs": [
    {
     "name": "stdout",
     "output_type": "stream",
     "text": [
      "              precision    recall  f1-score   support\n",
      "\n",
      "           0       0.99      1.00      1.00   1289169\n",
      "           1       0.00      0.00      0.00      7506\n",
      "\n",
      "    accuracy                           0.99   1296675\n",
      "   macro avg       0.50      0.50      0.50   1296675\n",
      "weighted avg       0.99      0.99      0.99   1296675\n",
      "\n"
     ]
    }
   ],
   "source": [
    "from sklearn.metrics import classification_report\n",
    "print(classification_report(test1['is_fraud'],test1['Predicted']))"
   ]
  },
  {
   "cell_type": "markdown",
   "id": "30e53b22",
   "metadata": {},
   "source": [
    "* Accuracy of Test = 99"
   ]
  },
  {
   "cell_type": "markdown",
   "id": "eb2684c2",
   "metadata": {},
   "source": [
    "### Decision Tree"
   ]
  },
  {
   "cell_type": "code",
   "execution_count": 53,
   "id": "39d1e06d",
   "metadata": {},
   "outputs": [
    {
     "data": {
      "text/html": [
       "<style>#sk-container-id-2 {color: black;}#sk-container-id-2 pre{padding: 0;}#sk-container-id-2 div.sk-toggleable {background-color: white;}#sk-container-id-2 label.sk-toggleable__label {cursor: pointer;display: block;width: 100%;margin-bottom: 0;padding: 0.3em;box-sizing: border-box;text-align: center;}#sk-container-id-2 label.sk-toggleable__label-arrow:before {content: \"▸\";float: left;margin-right: 0.25em;color: #696969;}#sk-container-id-2 label.sk-toggleable__label-arrow:hover:before {color: black;}#sk-container-id-2 div.sk-estimator:hover label.sk-toggleable__label-arrow:before {color: black;}#sk-container-id-2 div.sk-toggleable__content {max-height: 0;max-width: 0;overflow: hidden;text-align: left;background-color: #f0f8ff;}#sk-container-id-2 div.sk-toggleable__content pre {margin: 0.2em;color: black;border-radius: 0.25em;background-color: #f0f8ff;}#sk-container-id-2 input.sk-toggleable__control:checked~div.sk-toggleable__content {max-height: 200px;max-width: 100%;overflow: auto;}#sk-container-id-2 input.sk-toggleable__control:checked~label.sk-toggleable__label-arrow:before {content: \"▾\";}#sk-container-id-2 div.sk-estimator input.sk-toggleable__control:checked~label.sk-toggleable__label {background-color: #d4ebff;}#sk-container-id-2 div.sk-label input.sk-toggleable__control:checked~label.sk-toggleable__label {background-color: #d4ebff;}#sk-container-id-2 input.sk-hidden--visually {border: 0;clip: rect(1px 1px 1px 1px);clip: rect(1px, 1px, 1px, 1px);height: 1px;margin: -1px;overflow: hidden;padding: 0;position: absolute;width: 1px;}#sk-container-id-2 div.sk-estimator {font-family: monospace;background-color: #f0f8ff;border: 1px dotted black;border-radius: 0.25em;box-sizing: border-box;margin-bottom: 0.5em;}#sk-container-id-2 div.sk-estimator:hover {background-color: #d4ebff;}#sk-container-id-2 div.sk-parallel-item::after {content: \"\";width: 100%;border-bottom: 1px solid gray;flex-grow: 1;}#sk-container-id-2 div.sk-label:hover label.sk-toggleable__label {background-color: #d4ebff;}#sk-container-id-2 div.sk-serial::before {content: \"\";position: absolute;border-left: 1px solid gray;box-sizing: border-box;top: 0;bottom: 0;left: 50%;z-index: 0;}#sk-container-id-2 div.sk-serial {display: flex;flex-direction: column;align-items: center;background-color: white;padding-right: 0.2em;padding-left: 0.2em;position: relative;}#sk-container-id-2 div.sk-item {position: relative;z-index: 1;}#sk-container-id-2 div.sk-parallel {display: flex;align-items: stretch;justify-content: center;background-color: white;position: relative;}#sk-container-id-2 div.sk-item::before, #sk-container-id-2 div.sk-parallel-item::before {content: \"\";position: absolute;border-left: 1px solid gray;box-sizing: border-box;top: 0;bottom: 0;left: 50%;z-index: -1;}#sk-container-id-2 div.sk-parallel-item {display: flex;flex-direction: column;z-index: 1;position: relative;background-color: white;}#sk-container-id-2 div.sk-parallel-item:first-child::after {align-self: flex-end;width: 50%;}#sk-container-id-2 div.sk-parallel-item:last-child::after {align-self: flex-start;width: 50%;}#sk-container-id-2 div.sk-parallel-item:only-child::after {width: 0;}#sk-container-id-2 div.sk-dashed-wrapped {border: 1px dashed gray;margin: 0 0.4em 0.5em 0.4em;box-sizing: border-box;padding-bottom: 0.4em;background-color: white;}#sk-container-id-2 div.sk-label label {font-family: monospace;font-weight: bold;display: inline-block;line-height: 1.2em;}#sk-container-id-2 div.sk-label-container {text-align: center;}#sk-container-id-2 div.sk-container {/* jupyter's `normalize.less` sets `[hidden] { display: none; }` but bootstrap.min.css set `[hidden] { display: none !important; }` so we also need the `!important` here to be able to override the default hidden behavior on the sphinx rendered scikit-learn.org. See: https://github.com/scikit-learn/scikit-learn/issues/21755 */display: inline-block !important;position: relative;}#sk-container-id-2 div.sk-text-repr-fallback {display: none;}</style><div id=\"sk-container-id-2\" class=\"sk-top-container\"><div class=\"sk-text-repr-fallback\"><pre>DecisionTreeClassifier()</pre><b>In a Jupyter environment, please rerun this cell to show the HTML representation or trust the notebook. <br />On GitHub, the HTML representation is unable to render, please try loading this page with nbviewer.org.</b></div><div class=\"sk-container\" hidden><div class=\"sk-item\"><div class=\"sk-estimator sk-toggleable\"><input class=\"sk-toggleable__control sk-hidden--visually\" id=\"sk-estimator-id-2\" type=\"checkbox\" checked><label for=\"sk-estimator-id-2\" class=\"sk-toggleable__label sk-toggleable__label-arrow\">DecisionTreeClassifier</label><div class=\"sk-toggleable__content\"><pre>DecisionTreeClassifier()</pre></div></div></div></div></div>"
      ],
      "text/plain": [
       "DecisionTreeClassifier()"
      ]
     },
     "execution_count": 53,
     "metadata": {},
     "output_type": "execute_result"
    }
   ],
   "source": [
    "from sklearn import tree\n",
    "dt = tree.DecisionTreeClassifier()  \n",
    "dt.fit(X_train,y_train) "
   ]
  },
  {
   "cell_type": "code",
   "execution_count": 54,
   "id": "7c87edc8",
   "metadata": {},
   "outputs": [
    {
     "data": {
      "text/plain": [
       "['category',\n",
       " 'first',\n",
       " 'last',\n",
       " 'gender',\n",
       " 'street',\n",
       " 'city',\n",
       " 'state',\n",
       " 'job',\n",
       " 'amt',\n",
       " 'zip',\n",
       " 'city_pop',\n",
       " 'unix_time',\n",
       " 'is_fraud',\n",
       " 'Predicted']"
      ]
     },
     "execution_count": 54,
     "metadata": {},
     "output_type": "execute_result"
    }
   ],
   "source": [
    "independent_variable = list(train1.columns[1:])\n",
    "independent_variable"
   ]
  },
  {
   "cell_type": "markdown",
   "id": "47cf5420",
   "metadata": {},
   "source": [
    "#### Train Dataset Accuracy"
   ]
  },
  {
   "cell_type": "code",
   "execution_count": 55,
   "id": "29edc42e",
   "metadata": {},
   "outputs": [
    {
     "data": {
      "image/png": "[encoded data removed]",
      "text/plain": [
       "<Figure size 1500x1500 with 1 Axes>"
      ]
     },
     "metadata": {},
     "output_type": "display_data"
    }
   ],
   "source": [
    "from sklearn import tree\n",
    "import matplotlib.pyplot as plt\n",
    "\n",
    "Fraud = ['No', 'Yes'] \n",
    "\n",
    "fig, axes = plt.subplots(nrows = 1,ncols = 1,figsize = (5,5), dpi=300)\n",
    "tree.plot_tree(dt,  \n",
    "               feature_names = independent_variable, \n",
    "               class_names = Fraud,\n",
    "               filled = True, \n",
    "              node_ids=True, \n",
    "              fontsize=2); "
   ]
  },
  {
   "cell_type": "code",
   "execution_count": 56,
   "id": "4e9c7e03",
   "metadata": {},
   "outputs": [
    {
     "data": {
      "text/html": [
       "<div>\n",
       "<style scoped>\n",
       "    .dataframe tbody tr th:only-of-type {\n",
       "        vertical-align: middle;\n",
       "    }\n",
       "\n",
       "    .dataframe tbody tr th {\n",
       "        vertical-align: top;\n",
       "    }\n",
       "\n",
       "    .dataframe thead th {\n",
       "        text-align: right;\n",
       "    }\n",
       "</style>\n",
       "<table border=\"1\" class=\"dataframe\">\n",
       "  <thead>\n",
       "    <tr style=\"text-align: right;\">\n",
       "      <th></th>\n",
       "      <th>merchant</th>\n",
       "      <th>category</th>\n",
       "      <th>first</th>\n",
       "      <th>last</th>\n",
       "      <th>gender</th>\n",
       "      <th>street</th>\n",
       "      <th>city</th>\n",
       "      <th>state</th>\n",
       "      <th>job</th>\n",
       "      <th>amt</th>\n",
       "      <th>zip</th>\n",
       "      <th>city_pop</th>\n",
       "      <th>unix_time</th>\n",
       "      <th>is_fraud</th>\n",
       "      <th>Predicted</th>\n",
       "    </tr>\n",
       "  </thead>\n",
       "  <tbody>\n",
       "    <tr>\n",
       "      <th>0</th>\n",
       "      <td>0.851654</td>\n",
       "      <td>0.452853</td>\n",
       "      <td>-0.187242</td>\n",
       "      <td>-1.701281</td>\n",
       "      <td>-0.909206</td>\n",
       "      <td>0.285529</td>\n",
       "      <td>0.312207</td>\n",
       "      <td>0.022519</td>\n",
       "      <td>0.848099</td>\n",
       "      <td>-0.410800</td>\n",
       "      <td>-0.749136</td>\n",
       "      <td>-0.282589</td>\n",
       "      <td>-1.858664</td>\n",
       "      <td>0</td>\n",
       "      <td>0</td>\n",
       "    </tr>\n",
       "    <tr>\n",
       "      <th>1</th>\n",
       "      <td>-0.506880</td>\n",
       "      <td>-0.569266</td>\n",
       "      <td>1.319929</td>\n",
       "      <td>-0.684263</td>\n",
       "      <td>-0.909206</td>\n",
       "      <td>-0.189368</td>\n",
       "      <td>0.644767</td>\n",
       "      <td>1.418098</td>\n",
       "      <td>1.262061</td>\n",
       "      <td>0.231684</td>\n",
       "      <td>1.872567</td>\n",
       "      <td>-0.293670</td>\n",
       "      <td>-1.858662</td>\n",
       "      <td>0</td>\n",
       "      <td>0</td>\n",
       "    </tr>\n",
       "    <tr>\n",
       "      <th>2</th>\n",
       "      <td>0.234591</td>\n",
       "      <td>-1.591384</td>\n",
       "      <td>-0.669126</td>\n",
       "      <td>0.954674</td>\n",
       "      <td>1.099861</td>\n",
       "      <td>0.406932</td>\n",
       "      <td>0.087922</td>\n",
       "      <td>-0.954386</td>\n",
       "      <td>0.398450</td>\n",
       "      <td>0.936545</td>\n",
       "      <td>1.281042</td>\n",
       "      <td>-0.280406</td>\n",
       "      <td>-1.858662</td>\n",
       "      <td>0</td>\n",
       "      <td>0</td>\n",
       "    </tr>\n",
       "  </tbody>\n",
       "</table>\n",
       "</div>"
      ],
      "text/plain": [
       "   merchant  category     first      last    gender    street      city  \\\n",
       "0  0.851654  0.452853 -0.187242 -1.701281 -0.909206  0.285529  0.312207   \n",
       "1 -0.506880 -0.569266  1.319929 -0.684263 -0.909206 -0.189368  0.644767   \n",
       "2  0.234591 -1.591384 -0.669126  0.954674  1.099861  0.406932  0.087922   \n",
       "\n",
       "      state       job       amt       zip  city_pop  unix_time  is_fraud  \\\n",
       "0  0.022519  0.848099 -0.410800 -0.749136 -0.282589  -1.858664         0   \n",
       "1  1.418098  1.262061  0.231684  1.872567 -0.293670  -1.858662         0   \n",
       "2 -0.954386  0.398450  0.936545  1.281042 -0.280406  -1.858662         0   \n",
       "\n",
       "   Predicted  \n",
       "0          0  \n",
       "1          0  \n",
       "2          0  "
      ]
     },
     "execution_count": 56,
     "metadata": {},
     "output_type": "execute_result"
    }
   ],
   "source": [
    "train2 = train1\n",
    "train2.head(3)"
   ]
  },
  {
   "cell_type": "code",
   "execution_count": 57,
   "id": "d26df042",
   "metadata": {},
   "outputs": [
    {
     "data": {
      "text/html": [
       "<div>\n",
       "<style scoped>\n",
       "    .dataframe tbody tr th:only-of-type {\n",
       "        vertical-align: middle;\n",
       "    }\n",
       "\n",
       "    .dataframe tbody tr th {\n",
       "        vertical-align: top;\n",
       "    }\n",
       "\n",
       "    .dataframe thead th {\n",
       "        text-align: right;\n",
       "    }\n",
       "</style>\n",
       "<table border=\"1\" class=\"dataframe\">\n",
       "  <thead>\n",
       "    <tr style=\"text-align: right;\">\n",
       "      <th></th>\n",
       "      <th>merchant</th>\n",
       "      <th>category</th>\n",
       "      <th>first</th>\n",
       "      <th>last</th>\n",
       "      <th>gender</th>\n",
       "      <th>street</th>\n",
       "      <th>city</th>\n",
       "      <th>state</th>\n",
       "      <th>job</th>\n",
       "      <th>amt</th>\n",
       "      <th>zip</th>\n",
       "      <th>city_pop</th>\n",
       "      <th>unix_time</th>\n",
       "      <th>is_fraud</th>\n",
       "      <th>Predicted</th>\n",
       "    </tr>\n",
       "  </thead>\n",
       "  <tbody>\n",
       "    <tr>\n",
       "      <th>0</th>\n",
       "      <td>0.851654</td>\n",
       "      <td>0.452853</td>\n",
       "      <td>-0.187242</td>\n",
       "      <td>-1.701281</td>\n",
       "      <td>-0.909206</td>\n",
       "      <td>0.285529</td>\n",
       "      <td>0.312207</td>\n",
       "      <td>0.022519</td>\n",
       "      <td>0.848099</td>\n",
       "      <td>-0.410800</td>\n",
       "      <td>-0.749136</td>\n",
       "      <td>-0.282589</td>\n",
       "      <td>-1.858664</td>\n",
       "      <td>0</td>\n",
       "      <td>0</td>\n",
       "    </tr>\n",
       "    <tr>\n",
       "      <th>1</th>\n",
       "      <td>-0.506880</td>\n",
       "      <td>-0.569266</td>\n",
       "      <td>1.319929</td>\n",
       "      <td>-0.684263</td>\n",
       "      <td>-0.909206</td>\n",
       "      <td>-0.189368</td>\n",
       "      <td>0.644767</td>\n",
       "      <td>1.418098</td>\n",
       "      <td>1.262061</td>\n",
       "      <td>0.231684</td>\n",
       "      <td>1.872567</td>\n",
       "      <td>-0.293670</td>\n",
       "      <td>-1.858662</td>\n",
       "      <td>0</td>\n",
       "      <td>0</td>\n",
       "    </tr>\n",
       "    <tr>\n",
       "      <th>2</th>\n",
       "      <td>0.234591</td>\n",
       "      <td>-1.591384</td>\n",
       "      <td>-0.669126</td>\n",
       "      <td>0.954674</td>\n",
       "      <td>1.099861</td>\n",
       "      <td>0.406932</td>\n",
       "      <td>0.087922</td>\n",
       "      <td>-0.954386</td>\n",
       "      <td>0.398450</td>\n",
       "      <td>0.936545</td>\n",
       "      <td>1.281042</td>\n",
       "      <td>-0.280406</td>\n",
       "      <td>-1.858662</td>\n",
       "      <td>0</td>\n",
       "      <td>0</td>\n",
       "    </tr>\n",
       "    <tr>\n",
       "      <th>3</th>\n",
       "      <td>0.085302</td>\n",
       "      <td>-1.080325</td>\n",
       "      <td>-0.176989</td>\n",
       "      <td>1.554641</td>\n",
       "      <td>1.099861</td>\n",
       "      <td>1.578106</td>\n",
       "      <td>-1.396996</td>\n",
       "      <td>-0.047260</td>\n",
       "      <td>0.548333</td>\n",
       "      <td>-0.155054</td>\n",
       "      <td>0.402753</td>\n",
       "      <td>-0.287742</td>\n",
       "      <td>-1.858660</td>\n",
       "      <td>0</td>\n",
       "      <td>0</td>\n",
       "    </tr>\n",
       "    <tr>\n",
       "      <th>4</th>\n",
       "      <td>-0.228206</td>\n",
       "      <td>0.708382</td>\n",
       "      <td>1.596756</td>\n",
       "      <td>-0.742796</td>\n",
       "      <td>1.099861</td>\n",
       "      <td>-0.250069</td>\n",
       "      <td>-0.886556</td>\n",
       "      <td>1.278540</td>\n",
       "      <td>-0.964771</td>\n",
       "      <td>-0.180005</td>\n",
       "      <td>-0.906090</td>\n",
       "      <td>-0.293835</td>\n",
       "      <td>-1.858651</td>\n",
       "      <td>0</td>\n",
       "      <td>0</td>\n",
       "    </tr>\n",
       "  </tbody>\n",
       "</table>\n",
       "</div>"
      ],
      "text/plain": [
       "   merchant  category     first      last    gender    street      city  \\\n",
       "0  0.851654  0.452853 -0.187242 -1.701281 -0.909206  0.285529  0.312207   \n",
       "1 -0.506880 -0.569266  1.319929 -0.684263 -0.909206 -0.189368  0.644767   \n",
       "2  0.234591 -1.591384 -0.669126  0.954674  1.099861  0.406932  0.087922   \n",
       "3  0.085302 -1.080325 -0.176989  1.554641  1.099861  1.578106 -1.396996   \n",
       "4 -0.228206  0.708382  1.596756 -0.742796  1.099861 -0.250069 -0.886556   \n",
       "\n",
       "      state       job       amt       zip  city_pop  unix_time  is_fraud  \\\n",
       "0  0.022519  0.848099 -0.410800 -0.749136 -0.282589  -1.858664         0   \n",
       "1  1.418098  1.262061  0.231684  1.872567 -0.293670  -1.858662         0   \n",
       "2 -0.954386  0.398450  0.936545  1.281042 -0.280406  -1.858662         0   \n",
       "3 -0.047260  0.548333 -0.155054  0.402753 -0.287742  -1.858660         0   \n",
       "4  1.278540 -0.964771 -0.180005 -0.906090 -0.293835  -1.858651         0   \n",
       "\n",
       "   Predicted  \n",
       "0          0  \n",
       "1          0  \n",
       "2          0  \n",
       "3          0  \n",
       "4          0  "
      ]
     },
     "execution_count": 57,
     "metadata": {},
     "output_type": "execute_result"
    }
   ],
   "source": [
    "train2['Predicted']=dt.predict(X_train)\n",
    "train2.head()"
   ]
  },
  {
   "cell_type": "code",
   "execution_count": 58,
   "id": "d1098cec",
   "metadata": {},
   "outputs": [
    {
     "name": "stdout",
     "output_type": "stream",
     "text": [
      "[[1289169       0]\n",
      " [      0    7506]]\n"
     ]
    }
   ],
   "source": [
    "matrix = confusion_matrix(train2['Predicted'],train2['is_fraud'])\n",
    "print(matrix)"
   ]
  },
  {
   "cell_type": "code",
   "execution_count": 59,
   "id": "30921c52",
   "metadata": {
    "scrolled": true
   },
   "outputs": [
    {
     "name": "stdout",
     "output_type": "stream",
     "text": [
      "100.0\n"
     ]
    }
   ],
   "source": [
    "Accuracy =((1289169+7506)/(1289169+7506)*100)\n",
    "print(Accuracy)  "
   ]
  },
  {
   "cell_type": "code",
   "execution_count": 60,
   "id": "fa004240",
   "metadata": {},
   "outputs": [
    {
     "name": "stdout",
     "output_type": "stream",
     "text": [
      "              precision    recall  f1-score   support\n",
      "\n",
      "           0       1.00      1.00      1.00   1289169\n",
      "           1       1.00      1.00      1.00      7506\n",
      "\n",
      "    accuracy                           1.00   1296675\n",
      "   macro avg       1.00      1.00      1.00   1296675\n",
      "weighted avg       1.00      1.00      1.00   1296675\n",
      "\n"
     ]
    }
   ],
   "source": [
    "print(classification_report(train2['Predicted'], train2['is_fraud']))"
   ]
  },
  {
   "cell_type": "markdown",
   "id": "09661e33",
   "metadata": {},
   "source": [
    "* Here we get 100% Accuracy , it's overfitting \n",
    "* Avoid overfitting we have to do **Prunning**"
   ]
  },
  {
   "cell_type": "markdown",
   "id": "69c371e0",
   "metadata": {},
   "source": [
    "### Pruning"
   ]
  },
  {
   "cell_type": "code",
   "execution_count": 61,
   "id": "d7d30d67",
   "metadata": {},
   "outputs": [
    {
     "data": {
      "text/html": [
       "<style>#sk-container-id-3 {color: black;}#sk-container-id-3 pre{padding: 0;}#sk-container-id-3 div.sk-toggleable {background-color: white;}#sk-container-id-3 label.sk-toggleable__label {cursor: pointer;display: block;width: 100%;margin-bottom: 0;padding: 0.3em;box-sizing: border-box;text-align: center;}#sk-container-id-3 label.sk-toggleable__label-arrow:before {content: \"▸\";float: left;margin-right: 0.25em;color: #696969;}#sk-container-id-3 label.sk-toggleable__label-arrow:hover:before {color: black;}#sk-container-id-3 div.sk-estimator:hover label.sk-toggleable__label-arrow:before {color: black;}#sk-container-id-3 div.sk-toggleable__content {max-height: 0;max-width: 0;overflow: hidden;text-align: left;background-color: #f0f8ff;}#sk-container-id-3 div.sk-toggleable__content pre {margin: 0.2em;color: black;border-radius: 0.25em;background-color: #f0f8ff;}#sk-container-id-3 input.sk-toggleable__control:checked~div.sk-toggleable__content {max-height: 200px;max-width: 100%;overflow: auto;}#sk-container-id-3 input.sk-toggleable__control:checked~label.sk-toggleable__label-arrow:before {content: \"▾\";}#sk-container-id-3 div.sk-estimator input.sk-toggleable__control:checked~label.sk-toggleable__label {background-color: #d4ebff;}#sk-container-id-3 div.sk-label input.sk-toggleable__control:checked~label.sk-toggleable__label {background-color: #d4ebff;}#sk-container-id-3 input.sk-hidden--visually {border: 0;clip: rect(1px 1px 1px 1px);clip: rect(1px, 1px, 1px, 1px);height: 1px;margin: -1px;overflow: hidden;padding: 0;position: absolute;width: 1px;}#sk-container-id-3 div.sk-estimator {font-family: monospace;background-color: #f0f8ff;border: 1px dotted black;border-radius: 0.25em;box-sizing: border-box;margin-bottom: 0.5em;}#sk-container-id-3 div.sk-estimator:hover {background-color: #d4ebff;}#sk-container-id-3 div.sk-parallel-item::after {content: \"\";width: 100%;border-bottom: 1px solid gray;flex-grow: 1;}#sk-container-id-3 div.sk-label:hover label.sk-toggleable__label {background-color: #d4ebff;}#sk-container-id-3 div.sk-serial::before {content: \"\";position: absolute;border-left: 1px solid gray;box-sizing: border-box;top: 0;bottom: 0;left: 50%;z-index: 0;}#sk-container-id-3 div.sk-serial {display: flex;flex-direction: column;align-items: center;background-color: white;padding-right: 0.2em;padding-left: 0.2em;position: relative;}#sk-container-id-3 div.sk-item {position: relative;z-index: 1;}#sk-container-id-3 div.sk-parallel {display: flex;align-items: stretch;justify-content: center;background-color: white;position: relative;}#sk-container-id-3 div.sk-item::before, #sk-container-id-3 div.sk-parallel-item::before {content: \"\";position: absolute;border-left: 1px solid gray;box-sizing: border-box;top: 0;bottom: 0;left: 50%;z-index: -1;}#sk-container-id-3 div.sk-parallel-item {display: flex;flex-direction: column;z-index: 1;position: relative;background-color: white;}#sk-container-id-3 div.sk-parallel-item:first-child::after {align-self: flex-end;width: 50%;}#sk-container-id-3 div.sk-parallel-item:last-child::after {align-self: flex-start;width: 50%;}#sk-container-id-3 div.sk-parallel-item:only-child::after {width: 0;}#sk-container-id-3 div.sk-dashed-wrapped {border: 1px dashed gray;margin: 0 0.4em 0.5em 0.4em;box-sizing: border-box;padding-bottom: 0.4em;background-color: white;}#sk-container-id-3 div.sk-label label {font-family: monospace;font-weight: bold;display: inline-block;line-height: 1.2em;}#sk-container-id-3 div.sk-label-container {text-align: center;}#sk-container-id-3 div.sk-container {/* jupyter's `normalize.less` sets `[hidden] { display: none; }` but bootstrap.min.css set `[hidden] { display: none !important; }` so we also need the `!important` here to be able to override the default hidden behavior on the sphinx rendered scikit-learn.org. See: https://github.com/scikit-learn/scikit-learn/issues/21755 */display: inline-block !important;position: relative;}#sk-container-id-3 div.sk-text-repr-fallback {display: none;}</style><div id=\"sk-container-id-3\" class=\"sk-top-container\"><div class=\"sk-text-repr-fallback\"><pre>DecisionTreeClassifier(max_depth=4, min_samples_leaf=5, min_samples_split=10)</pre><b>In a Jupyter environment, please rerun this cell to show the HTML representation or trust the notebook. <br />On GitHub, the HTML representation is unable to render, please try loading this page with nbviewer.org.</b></div><div class=\"sk-container\" hidden><div class=\"sk-item\"><div class=\"sk-estimator sk-toggleable\"><input class=\"sk-toggleable__control sk-hidden--visually\" id=\"sk-estimator-id-3\" type=\"checkbox\" checked><label for=\"sk-estimator-id-3\" class=\"sk-toggleable__label sk-toggleable__label-arrow\">DecisionTreeClassifier</label><div class=\"sk-toggleable__content\"><pre>DecisionTreeClassifier(max_depth=4, min_samples_leaf=5, min_samples_split=10)</pre></div></div></div></div></div>"
      ],
      "text/plain": [
       "DecisionTreeClassifier(max_depth=4, min_samples_leaf=5, min_samples_split=10)"
      ]
     },
     "execution_count": 61,
     "metadata": {},
     "output_type": "execute_result"
    }
   ],
   "source": [
    "dt = tree.DecisionTreeClassifier(criterion='gini',      #splitter\n",
    "                                 min_samples_leaf=5,   #child\n",
    "                                 min_samples_split=10, #parent \n",
    "                                 max_depth=4)           #branches\n",
    "\n",
    "dt.fit(X_train,y_train)"
   ]
  },
  {
   "cell_type": "code",
   "execution_count": 62,
   "id": "3bb8f56b",
   "metadata": {},
   "outputs": [
    {
     "data": {
      "image/png": "[encoded data removed]",
      "text/plain": [
       "<Figure size 1500x1500 with 1 Axes>"
      ]
     },
     "metadata": {},
     "output_type": "display_data"
    }
   ],
   "source": [
    "from sklearn import tree\n",
    "import matplotlib.pyplot as plt\n",
    "\n",
    "Fraud=['No', 'Yes'] \n",
    "\n",
    "fig, axes = plt.subplots(nrows = 1,ncols = 1,figsize = (5,5), dpi=300)\n",
    "tree.plot_tree(dt, \n",
    "               feature_names = independent_variable,  \n",
    "               class_names = Fraud, \n",
    "               filled = True,\n",
    "               node_ids = True,\n",
    "               fontsize=3); "
   ]
  },
  {
   "cell_type": "markdown",
   "id": "a77b2eb6",
   "metadata": {},
   "source": [
    "#### Train dataset accuracy after Pruning"
   ]
  },
  {
   "cell_type": "code",
   "execution_count": 63,
   "id": "63af33e6",
   "metadata": {},
   "outputs": [],
   "source": [
    "train2=train1"
   ]
  },
  {
   "cell_type": "code",
   "execution_count": 64,
   "id": "ada6cc7a",
   "metadata": {},
   "outputs": [
    {
     "data": {
      "text/html": [
       "<div>\n",
       "<style scoped>\n",
       "    .dataframe tbody tr th:only-of-type {\n",
       "        vertical-align: middle;\n",
       "    }\n",
       "\n",
       "    .dataframe tbody tr th {\n",
       "        vertical-align: top;\n",
       "    }\n",
       "\n",
       "    .dataframe thead th {\n",
       "        text-align: right;\n",
       "    }\n",
       "</style>\n",
       "<table border=\"1\" class=\"dataframe\">\n",
       "  <thead>\n",
       "    <tr style=\"text-align: right;\">\n",
       "      <th></th>\n",
       "      <th>merchant</th>\n",
       "      <th>category</th>\n",
       "      <th>first</th>\n",
       "      <th>last</th>\n",
       "      <th>gender</th>\n",
       "      <th>street</th>\n",
       "      <th>city</th>\n",
       "      <th>state</th>\n",
       "      <th>job</th>\n",
       "      <th>amt</th>\n",
       "      <th>zip</th>\n",
       "      <th>city_pop</th>\n",
       "      <th>unix_time</th>\n",
       "      <th>is_fraud</th>\n",
       "      <th>Predicted</th>\n",
       "    </tr>\n",
       "  </thead>\n",
       "  <tbody>\n",
       "    <tr>\n",
       "      <th>0</th>\n",
       "      <td>0.851654</td>\n",
       "      <td>0.452853</td>\n",
       "      <td>-0.187242</td>\n",
       "      <td>-1.701281</td>\n",
       "      <td>-0.909206</td>\n",
       "      <td>0.285529</td>\n",
       "      <td>0.312207</td>\n",
       "      <td>0.022519</td>\n",
       "      <td>0.848099</td>\n",
       "      <td>-0.410800</td>\n",
       "      <td>-0.749136</td>\n",
       "      <td>-0.282589</td>\n",
       "      <td>-1.858664</td>\n",
       "      <td>0</td>\n",
       "      <td>0</td>\n",
       "    </tr>\n",
       "    <tr>\n",
       "      <th>1</th>\n",
       "      <td>-0.506880</td>\n",
       "      <td>-0.569266</td>\n",
       "      <td>1.319929</td>\n",
       "      <td>-0.684263</td>\n",
       "      <td>-0.909206</td>\n",
       "      <td>-0.189368</td>\n",
       "      <td>0.644767</td>\n",
       "      <td>1.418098</td>\n",
       "      <td>1.262061</td>\n",
       "      <td>0.231684</td>\n",
       "      <td>1.872567</td>\n",
       "      <td>-0.293670</td>\n",
       "      <td>-1.858662</td>\n",
       "      <td>0</td>\n",
       "      <td>0</td>\n",
       "    </tr>\n",
       "    <tr>\n",
       "      <th>2</th>\n",
       "      <td>0.234591</td>\n",
       "      <td>-1.591384</td>\n",
       "      <td>-0.669126</td>\n",
       "      <td>0.954674</td>\n",
       "      <td>1.099861</td>\n",
       "      <td>0.406932</td>\n",
       "      <td>0.087922</td>\n",
       "      <td>-0.954386</td>\n",
       "      <td>0.398450</td>\n",
       "      <td>0.936545</td>\n",
       "      <td>1.281042</td>\n",
       "      <td>-0.280406</td>\n",
       "      <td>-1.858662</td>\n",
       "      <td>0</td>\n",
       "      <td>0</td>\n",
       "    </tr>\n",
       "    <tr>\n",
       "      <th>3</th>\n",
       "      <td>0.085302</td>\n",
       "      <td>-1.080325</td>\n",
       "      <td>-0.176989</td>\n",
       "      <td>1.554641</td>\n",
       "      <td>1.099861</td>\n",
       "      <td>1.578106</td>\n",
       "      <td>-1.396996</td>\n",
       "      <td>-0.047260</td>\n",
       "      <td>0.548333</td>\n",
       "      <td>-0.155054</td>\n",
       "      <td>0.402753</td>\n",
       "      <td>-0.287742</td>\n",
       "      <td>-1.858660</td>\n",
       "      <td>0</td>\n",
       "      <td>0</td>\n",
       "    </tr>\n",
       "    <tr>\n",
       "      <th>4</th>\n",
       "      <td>-0.228206</td>\n",
       "      <td>0.708382</td>\n",
       "      <td>1.596756</td>\n",
       "      <td>-0.742796</td>\n",
       "      <td>1.099861</td>\n",
       "      <td>-0.250069</td>\n",
       "      <td>-0.886556</td>\n",
       "      <td>1.278540</td>\n",
       "      <td>-0.964771</td>\n",
       "      <td>-0.180005</td>\n",
       "      <td>-0.906090</td>\n",
       "      <td>-0.293835</td>\n",
       "      <td>-1.858651</td>\n",
       "      <td>0</td>\n",
       "      <td>0</td>\n",
       "    </tr>\n",
       "  </tbody>\n",
       "</table>\n",
       "</div>"
      ],
      "text/plain": [
       "   merchant  category     first      last    gender    street      city  \\\n",
       "0  0.851654  0.452853 -0.187242 -1.701281 -0.909206  0.285529  0.312207   \n",
       "1 -0.506880 -0.569266  1.319929 -0.684263 -0.909206 -0.189368  0.644767   \n",
       "2  0.234591 -1.591384 -0.669126  0.954674  1.099861  0.406932  0.087922   \n",
       "3  0.085302 -1.080325 -0.176989  1.554641  1.099861  1.578106 -1.396996   \n",
       "4 -0.228206  0.708382  1.596756 -0.742796  1.099861 -0.250069 -0.886556   \n",
       "\n",
       "      state       job       amt       zip  city_pop  unix_time  is_fraud  \\\n",
       "0  0.022519  0.848099 -0.410800 -0.749136 -0.282589  -1.858664         0   \n",
       "1  1.418098  1.262061  0.231684  1.872567 -0.293670  -1.858662         0   \n",
       "2 -0.954386  0.398450  0.936545  1.281042 -0.280406  -1.858662         0   \n",
       "3 -0.047260  0.548333 -0.155054  0.402753 -0.287742  -1.858660         0   \n",
       "4  1.278540 -0.964771 -0.180005 -0.906090 -0.293835  -1.858651         0   \n",
       "\n",
       "   Predicted  \n",
       "0          0  \n",
       "1          0  \n",
       "2          0  \n",
       "3          0  \n",
       "4          0  "
      ]
     },
     "execution_count": 64,
     "metadata": {},
     "output_type": "execute_result"
    }
   ],
   "source": [
    "train2['Predicted']=dt.predict(X_train) \n",
    "train2.head()"
   ]
  },
  {
   "cell_type": "code",
   "execution_count": 65,
   "id": "671447d3",
   "metadata": {},
   "outputs": [
    {
     "name": "stdout",
     "output_type": "stream",
     "text": [
      "[[1287806    3956]\n",
      " [   1363    3550]]\n"
     ]
    }
   ],
   "source": [
    "matrix = confusion_matrix(train2['Predicted'],train2['is_fraud'])\n",
    "print(matrix)"
   ]
  },
  {
   "cell_type": "code",
   "execution_count": 66,
   "id": "605e50a0",
   "metadata": {},
   "outputs": [
    {
     "name": "stdout",
     "output_type": "stream",
     "text": [
      "99.5897969807392\n"
     ]
    }
   ],
   "source": [
    "Accuracy1 =((1287806+3550)/(1287806+1363+3956+3550)*100)\n",
    "print(Accuracy1)   # overfit or High accuracy"
   ]
  },
  {
   "cell_type": "code",
   "execution_count": 67,
   "id": "8c5cf7cd",
   "metadata": {
    "scrolled": true
   },
   "outputs": [
    {
     "name": "stdout",
     "output_type": "stream",
     "text": [
      "              precision    recall  f1-score   support\n",
      "\n",
      "           0       1.00      1.00      1.00   1291762\n",
      "           1       0.47      0.72      0.57      4913\n",
      "\n",
      "    accuracy                           1.00   1296675\n",
      "   macro avg       0.74      0.86      0.78   1296675\n",
      "weighted avg       1.00      1.00      1.00   1296675\n",
      "\n"
     ]
    }
   ],
   "source": [
    "print(classification_report(train2['Predicted'],train2['is_fraud']))"
   ]
  },
  {
   "cell_type": "markdown",
   "id": "7f485a17",
   "metadata": {},
   "source": [
    "* Accuracy of train data after **Prunning** = 100"
   ]
  },
  {
   "cell_type": "markdown",
   "id": "97aca0d1",
   "metadata": {},
   "source": [
    "#### Test Data Accuracy"
   ]
  },
  {
   "cell_type": "code",
   "execution_count": 68,
   "id": "89704a79",
   "metadata": {},
   "outputs": [],
   "source": [
    "test2 = test1"
   ]
  },
  {
   "cell_type": "code",
   "execution_count": 69,
   "id": "1c1aee68",
   "metadata": {},
   "outputs": [
    {
     "data": {
      "text/html": [
       "<div>\n",
       "<style scoped>\n",
       "    .dataframe tbody tr th:only-of-type {\n",
       "        vertical-align: middle;\n",
       "    }\n",
       "\n",
       "    .dataframe tbody tr th {\n",
       "        vertical-align: top;\n",
       "    }\n",
       "\n",
       "    .dataframe thead th {\n",
       "        text-align: right;\n",
       "    }\n",
       "</style>\n",
       "<table border=\"1\" class=\"dataframe\">\n",
       "  <thead>\n",
       "    <tr style=\"text-align: right;\">\n",
       "      <th></th>\n",
       "      <th>merchant</th>\n",
       "      <th>category</th>\n",
       "      <th>first</th>\n",
       "      <th>last</th>\n",
       "      <th>gender</th>\n",
       "      <th>street</th>\n",
       "      <th>city</th>\n",
       "      <th>state</th>\n",
       "      <th>job</th>\n",
       "      <th>amt</th>\n",
       "      <th>zip</th>\n",
       "      <th>city_pop</th>\n",
       "      <th>unix_time</th>\n",
       "      <th>is_fraud</th>\n",
       "      <th>Predicted</th>\n",
       "    </tr>\n",
       "  </thead>\n",
       "  <tbody>\n",
       "    <tr>\n",
       "      <th>0</th>\n",
       "      <td>0.851654</td>\n",
       "      <td>0.452853</td>\n",
       "      <td>-0.187242</td>\n",
       "      <td>-1.701281</td>\n",
       "      <td>-0.909206</td>\n",
       "      <td>0.285529</td>\n",
       "      <td>0.312207</td>\n",
       "      <td>0.022519</td>\n",
       "      <td>0.848099</td>\n",
       "      <td>-0.410800</td>\n",
       "      <td>-0.749136</td>\n",
       "      <td>-0.282589</td>\n",
       "      <td>-1.858664</td>\n",
       "      <td>0</td>\n",
       "      <td>0</td>\n",
       "    </tr>\n",
       "    <tr>\n",
       "      <th>1</th>\n",
       "      <td>-0.506880</td>\n",
       "      <td>-0.569266</td>\n",
       "      <td>1.319929</td>\n",
       "      <td>-0.684263</td>\n",
       "      <td>-0.909206</td>\n",
       "      <td>-0.189368</td>\n",
       "      <td>0.644767</td>\n",
       "      <td>1.418098</td>\n",
       "      <td>1.262061</td>\n",
       "      <td>0.231684</td>\n",
       "      <td>1.872567</td>\n",
       "      <td>-0.293670</td>\n",
       "      <td>-1.858662</td>\n",
       "      <td>0</td>\n",
       "      <td>0</td>\n",
       "    </tr>\n",
       "    <tr>\n",
       "      <th>2</th>\n",
       "      <td>0.234591</td>\n",
       "      <td>-1.591384</td>\n",
       "      <td>-0.669126</td>\n",
       "      <td>0.954674</td>\n",
       "      <td>1.099861</td>\n",
       "      <td>0.406932</td>\n",
       "      <td>0.087922</td>\n",
       "      <td>-0.954386</td>\n",
       "      <td>0.398450</td>\n",
       "      <td>0.936545</td>\n",
       "      <td>1.281042</td>\n",
       "      <td>-0.280406</td>\n",
       "      <td>-1.858662</td>\n",
       "      <td>0</td>\n",
       "      <td>0</td>\n",
       "    </tr>\n",
       "    <tr>\n",
       "      <th>3</th>\n",
       "      <td>0.085302</td>\n",
       "      <td>-1.080325</td>\n",
       "      <td>-0.176989</td>\n",
       "      <td>1.554641</td>\n",
       "      <td>1.099861</td>\n",
       "      <td>1.578106</td>\n",
       "      <td>-1.396996</td>\n",
       "      <td>-0.047260</td>\n",
       "      <td>0.548333</td>\n",
       "      <td>-0.155054</td>\n",
       "      <td>0.402753</td>\n",
       "      <td>-0.287742</td>\n",
       "      <td>-1.858660</td>\n",
       "      <td>0</td>\n",
       "      <td>0</td>\n",
       "    </tr>\n",
       "    <tr>\n",
       "      <th>4</th>\n",
       "      <td>-0.228206</td>\n",
       "      <td>0.708382</td>\n",
       "      <td>1.596756</td>\n",
       "      <td>-0.742796</td>\n",
       "      <td>1.099861</td>\n",
       "      <td>-0.250069</td>\n",
       "      <td>-0.886556</td>\n",
       "      <td>1.278540</td>\n",
       "      <td>-0.964771</td>\n",
       "      <td>-0.180005</td>\n",
       "      <td>-0.906090</td>\n",
       "      <td>-0.293835</td>\n",
       "      <td>-1.858651</td>\n",
       "      <td>0</td>\n",
       "      <td>0</td>\n",
       "    </tr>\n",
       "  </tbody>\n",
       "</table>\n",
       "</div>"
      ],
      "text/plain": [
       "   merchant  category     first      last    gender    street      city  \\\n",
       "0  0.851654  0.452853 -0.187242 -1.701281 -0.909206  0.285529  0.312207   \n",
       "1 -0.506880 -0.569266  1.319929 -0.684263 -0.909206 -0.189368  0.644767   \n",
       "2  0.234591 -1.591384 -0.669126  0.954674  1.099861  0.406932  0.087922   \n",
       "3  0.085302 -1.080325 -0.176989  1.554641  1.099861  1.578106 -1.396996   \n",
       "4 -0.228206  0.708382  1.596756 -0.742796  1.099861 -0.250069 -0.886556   \n",
       "\n",
       "      state       job       amt       zip  city_pop  unix_time  is_fraud  \\\n",
       "0  0.022519  0.848099 -0.410800 -0.749136 -0.282589  -1.858664         0   \n",
       "1  1.418098  1.262061  0.231684  1.872567 -0.293670  -1.858662         0   \n",
       "2 -0.954386  0.398450  0.936545  1.281042 -0.280406  -1.858662         0   \n",
       "3 -0.047260  0.548333 -0.155054  0.402753 -0.287742  -1.858660         0   \n",
       "4  1.278540 -0.964771 -0.180005 -0.906090 -0.293835  -1.858651         0   \n",
       "\n",
       "   Predicted  \n",
       "0          0  \n",
       "1          0  \n",
       "2          0  \n",
       "3          0  \n",
       "4          0  "
      ]
     },
     "execution_count": 69,
     "metadata": {},
     "output_type": "execute_result"
    }
   ],
   "source": [
    "test2['Predicted']=dt.predict(X_test)  # MODEL = dt\n",
    "test2.head()"
   ]
  },
  {
   "cell_type": "code",
   "execution_count": 70,
   "id": "91b010ed",
   "metadata": {},
   "outputs": [
    {
     "name": "stdout",
     "output_type": "stream",
     "text": [
      "[[1287806    3956]\n",
      " [   1363    3550]]\n"
     ]
    }
   ],
   "source": [
    "matrix = confusion_matrix(test2['Predicted'],test2['is_fraud'])\n",
    "print(matrix)"
   ]
  },
  {
   "cell_type": "code",
   "execution_count": 71,
   "id": "461aee62",
   "metadata": {},
   "outputs": [
    {
     "data": {
      "text/plain": [
       "99.5897969807392"
      ]
     },
     "execution_count": 71,
     "metadata": {},
     "output_type": "execute_result"
    }
   ],
   "source": [
    "Accuracy = ((1287806+3550)/(1287806+3956+3550+1363))*100\n",
    "Accuracy"
   ]
  },
  {
   "cell_type": "code",
   "execution_count": 72,
   "id": "c5e5e25f",
   "metadata": {},
   "outputs": [
    {
     "name": "stdout",
     "output_type": "stream",
     "text": [
      "              precision    recall  f1-score   support\n",
      "\n",
      "           0       1.00      1.00      1.00   1291762\n",
      "           1       0.47      0.72      0.57      4913\n",
      "\n",
      "    accuracy                           1.00   1296675\n",
      "   macro avg       0.74      0.86      0.78   1296675\n",
      "weighted avg       1.00      1.00      1.00   1296675\n",
      "\n"
     ]
    }
   ],
   "source": [
    "print(classification_report(test2['Predicted'], test2['is_fraud']))"
   ]
  },
  {
   "cell_type": "markdown",
   "id": "3294dac2",
   "metadata": {},
   "source": [
    "* Accuracy of test data = 100"
   ]
  },
  {
   "cell_type": "markdown",
   "id": "84225820",
   "metadata": {},
   "source": [
    "Used Algorithm :\n",
    "\n",
    "    1. logistic Regression \n",
    "       train accuracy : 99\n",
    "       test accuracy : 99\n",
    "       \n",
    "    2. Decision Tree \n",
    "       train accuracy : 100\n",
    "       test accuracy : 100"
   ]
  },
  {
   "cell_type": "markdown",
   "id": "fea7918a",
   "metadata": {},
   "source": [
    "* Best Model for this Dataset : Logistic Regression"
   ]
  }
 ],
 "metadata": {
  "kernelspec": {
   "display_name": "Python 3 (ipykernel)",
   "language": "python",
   "name": "python3"
  },
  "language_info": {
   "codemirror_mode": {
    "name": "ipython",
    "version": 3
   },
   "file_extension": ".py",
   "mimetype": "text/x-python",
   "name": "python",
   "nbconvert_exporter": "python",
   "pygments_lexer": "ipython3",
   "version": "3.11.4"
  }
 },
 "nbformat": 4,
 "nbformat_minor": 5
}
